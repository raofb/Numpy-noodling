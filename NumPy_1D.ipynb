{
  "nbformat": 4,
  "nbformat_minor": 0,
  "metadata": {
    "colab": {
      "provenance": [],
      "collapsed_sections": [
        "AP7XZGwfCCZn",
        "s4ARt1h46Kg5",
        "YFr9TpsY8bBT",
        "hv_DkqvK8ofX",
        "3_3GdQCEEoyz",
        "GrfuYKLzJQbq"
      ],
      "include_colab_link": true
    },
    "kernelspec": {
      "name": "python3",
      "display_name": "Python 3"
    }
  },
  "cells": [
    {
      "cell_type": "markdown",
      "metadata": {
        "id": "view-in-github",
        "colab_type": "text"
      },
      "source": [
        "<a href=\"https://colab.research.google.com/github/raofb/Numpy-noodling/blob/main/NumPy_1D.ipynb\" target=\"_parent\"><img src=\"https://colab.research.google.com/assets/colab-badge.svg\" alt=\"Open In Colab\"/></a>"
      ]
    },
    {
      "cell_type": "markdown",
      "metadata": {
        "id": "G90zxY79qIXe"
      },
      "source": [
        "<?xml version=\"1.0\" encoding=\"UTF-8\"?>\n",
        "<html>\n",
        "  <body>\n",
        "    <header></header>\n",
        "        <CENTER>\n",
        "          <img src=\"https://www.uvv.br/wp-content/themes/uvvBr/templates/assets//img/logouvv.svg\" alt=\"UVV-LOGO\" style = width=\"100px\"; height=\"100px\">\n",
        "        </CENTER>\n",
        "        <CENTER><b>Programação de Computadores - PYTHON</b></CENTER>\n",
        "        <CENTER><b>Estrutura de Dados - Numeric Python</b></CENTER><br/>"
      ]
    },
    {
      "cell_type": "markdown",
      "metadata": {
        "id": "AP7XZGwfCCZn"
      },
      "source": [
        "# Bibliotecas / funções:"
      ]
    },
    {
      "cell_type": "code",
      "metadata": {
        "id": "WiOh9IxcCGXI"
      },
      "source": [
        "import numpy"
      ],
      "execution_count": 1,
      "outputs": []
    },
    {
      "cell_type": "markdown",
      "metadata": {
        "id": "yZfJjeQgqTo_"
      },
      "source": [
        "# Conceitos básicos do Numeric Python: NDARRAY\n",
        "<b>O que vamos estudar hoje:</b><br />\n",
        "    &#10139; Conceitos: <b>Vetor (Array): </b> é uma <b>Estrutura de Dados</b> usada para memorizar (memória primária) grandes volumes de dados.<br/>\n",
        "    &#10139; Características: <b>Vetor: 1D (Dimensão: Linha), Matriz (Tabela): 2D (Dimensão: Linha e Coluna) e Prisma: 3D (Dimensão: X, Y e Z - Computação Gráfica)</b><br/>\n",
        "    &#10139; Características: <b>Homogêneo (mesmo tipo: inteiro ou real)</b> e <b>Estático (Tamanho Fixo)</b><br/>\n",
        "    &#10139; Componentes de um Vetor: <b>Elementos ou termos, Indexação (Índice) e Tamanho Máximo (Fixo).</b><br/>\n",
        "    &#10139; <b>Indexação (Índice): </b>É uma variável inteira usada para acessar os termos ou elementos de um vetor (Valores).<br/>\n",
        "    &#10139; <b>Indexação (Índice Crescente): </b>Índices entre [0 ... TAMANHO - 1]<br/>\n",
        "    &#10139; <b>Indexação (Índice Decrescente): </b>Índices entre [- 1 ... -TAMANHO]<br/>\n",
        "    &#10139; <b>Indexação: </b>Posição = Índice + 1<br/>\n",
        "    &#10139; <b>Indexação: </b>Índice  = Posição - 1<br/><br/>\n",
        "    <table border=\"1\" width=\"750\">\n",
        "            <caption><b>Exemplo de Vetor: Notas do 1° Bimestre</b></caption>\n",
        "            <tr>\n",
        "                <th bgcolor=\"white\" bold=true>POSIÇÃO NA PAUTA</th>\n",
        "                <th bgcolor=\"white\">Aluno 1</th>\n",
        "                <th bgcolor=\"white\">Aluno 2</th>\n",
        "                <th bgcolor=\"white\">Aluno 3</th>\n",
        "                <th bgcolor=\"white\">...</th>\n",
        "                <th bgcolor=\"white\">Aluno 48</th>\n",
        "                <th bgcolor=\"white\">Aluno 49</th>\n",
        "                <th bgcolor=\"white\">Aluno 50</th>\n",
        "            </tr>\n",
        "            <tr>\n",
        "                <th bgcolor=\"white\" bold=true>ÍNDICE (decrescente)</th>\n",
        "                <th bgcolor=\"white\">-50</th>\n",
        "                <th bgcolor=\"white\">-49</th>\n",
        "                <th bgcolor=\"white\">-48</th>\n",
        "                <th bgcolor=\"white\">...</th>\n",
        "                <th bgcolor=\"white\">-3</th>\n",
        "                <th bgcolor=\"white\">-2</th>\n",
        "                <th bgcolor=\"white\">-1</th>\n",
        "            </tr>\n",
        "            <tr>\n",
        "                <th bgcolor=\"yellow\" bold=true><b>BIMESTRE 1</b></th>\n",
        "                <th bgcolor=\"aqua\">7.7</th>\n",
        "                <th bgcolor=\"aqua\">5.5</th>\n",
        "                <th bgcolor=\"aqua\">9.2</th>\n",
        "                <th bgcolor=\"aqua\">...</th>\n",
        "                <th bgcolor=\"aqua\">5.7</th>\n",
        "                <th bgcolor=\"aqua\">6.3</th>\n",
        "                <th bgcolor=\"aqua\">8.4</th>\n",
        "            </tr>\n",
        "            <tr>\n",
        "                <th bgcolor=\"white\" bold=true>ÍNDICE (crescente)</th>\n",
        "                <th bgcolor=\"white\">0</th>\n",
        "                <th bgcolor=\"white\">1</th>\n",
        "                <th bgcolor=\"white\">2</th>\n",
        "                <th bgcolor=\"white\">...</th>\n",
        "                 <th bgcolor=\"white\">47</th>\n",
        "                <th bgcolor=\"white\">48</th>\n",
        "                <th bgcolor=\"white\">49</th>\n",
        "            </tr>\n",
        "    </table>"
      ]
    },
    {
      "cell_type": "markdown",
      "metadata": {
        "id": "f9ly1B47rg_O"
      },
      "source": [
        "## Exemplo 1: Ler a nota turma: 1° Bimestre."
      ]
    },
    {
      "cell_type": "code",
      "metadata": {
        "id": "SfeMybzx2WKe",
        "colab": {
          "base_uri": "https://localhost:8080/"
        },
        "outputId": "1eb71abd-6bfc-4925-cb67-f92edc550627"
      },
      "source": [
        "bimestre1 = numpy.zeros(5)\n",
        "bimestre1"
      ],
      "execution_count": null,
      "outputs": [
        {
          "output_type": "execute_result",
          "data": {
            "text/plain": [
              "array([0., 0., 0., 0., 0.])"
            ]
          },
          "metadata": {},
          "execution_count": 5
        }
      ]
    },
    {
      "cell_type": "code",
      "metadata": {
        "id": "_u9M7QYSp-p5",
        "colab": {
          "base_uri": "https://localhost:8080/"
        },
        "outputId": "b621b5ac-231c-4c22-aa11-0fcd424c8620"
      },
      "source": [
        "\"\"\"\n",
        "EXEMPLO: Vetor Nota do 1° Bimestre.\n",
        "-> Ler notas [0, 10] dos 50 Alunos: Valor Final\n",
        "-> Objetivo: Exibir a média da turma 1º Bimestre:\n",
        "\"\"\"\n",
        "indice = 0\n",
        "while (indice < 5):\n",
        "  try:\n",
        "    print(f'Nota [0 - 10] - Aluno {indice + 1}: ')\n",
        "    bimestre1[indice] = float(input())\n",
        "    if(bimestre1[indice] < 0 or bimestre1[indice] > 10):\n",
        "      print('ERRO: Escolha de novo.')\n",
        "    else:\n",
        "      indice += 1\n",
        "  except:\n",
        "    print('ERRO: Escolha de novo.')"
      ],
      "execution_count": null,
      "outputs": [
        {
          "name": "stdout",
          "output_type": "stream",
          "text": [
            "Nota [0 - 10] - Aluno 1: \n",
            "7.7\n",
            "Nota [0 - 10] - Aluno 2: \n",
            "2.5\n",
            "Nota [0 - 10] - Aluno 3: \n",
            "9.6\n",
            "Nota [0 - 10] - Aluno 4: \n",
            "5.5\n",
            "Nota [0 - 10] - Aluno 5: \n",
            "4.2\n"
          ]
        }
      ]
    },
    {
      "cell_type": "code",
      "source": [
        "bimestre1"
      ],
      "metadata": {
        "colab": {
          "base_uri": "https://localhost:8080/"
        },
        "id": "jhYBbIRsjp_1",
        "outputId": "d7721b43-28f4-4190-b432-aa2a99ffa13b"
      },
      "execution_count": null,
      "outputs": [
        {
          "output_type": "execute_result",
          "data": {
            "text/plain": [
              "array([7.7, 2.5, 9.6, 5.5, 4.2])"
            ]
          },
          "metadata": {},
          "execution_count": 7
        }
      ]
    },
    {
      "cell_type": "markdown",
      "metadata": {
        "id": "7iDL1OhdAyv9"
      },
      "source": [
        "## Exemplo 2: Exibir a média da turma"
      ]
    },
    {
      "cell_type": "code",
      "metadata": {
        "id": "1VVYm3B3CD_N",
        "colab": {
          "base_uri": "https://localhost:8080/"
        },
        "outputId": "eb10b793-c46f-416a-c84a-466b95821010"
      },
      "source": [
        "# MÉTODO: Função do objeto\n",
        "print(f'Média da Turma: {bimestre1.mean(): .1f}')"
      ],
      "execution_count": null,
      "outputs": [
        {
          "output_type": "stream",
          "name": "stdout",
          "text": [
            "Média da Turma:  5.9\n"
          ]
        }
      ]
    },
    {
      "cell_type": "code",
      "source": [
        "# MÉTODO: Função do objeto\n",
        "sum = bimestre1.sum()\n",
        "#len = len(bimestre1)\n",
        "print(f'Média da Turma: {sum: .1f}')"
      ],
      "metadata": {
        "colab": {
          "base_uri": "https://localhost:8080/"
        },
        "id": "6ybG2JOvgaTp",
        "outputId": "a90b2fe7-077a-4338-a5e0-d1b4d7344545"
      },
      "execution_count": null,
      "outputs": [
        {
          "output_type": "stream",
          "name": "stdout",
          "text": [
            "Média da Turma:  29.5\n"
          ]
        }
      ]
    },
    {
      "cell_type": "code",
      "source": [
        "# MÉTODO: Função do objeto\n",
        "print(f'Média da Turma: {numpy.mean(bimestre1): .1f}')"
      ],
      "metadata": {
        "colab": {
          "base_uri": "https://localhost:8080/"
        },
        "id": "oHR-ZYfdkk_O",
        "outputId": "9cb176c0-b951-47dd-e8db-d70b4d3d0b7e"
      },
      "execution_count": null,
      "outputs": [
        {
          "output_type": "stream",
          "name": "stdout",
          "text": [
            "Média da Turma:  5.9\n"
          ]
        }
      ]
    },
    {
      "cell_type": "code",
      "source": [
        "tamanho = bimestre1.shape\n",
        "tamanho"
      ],
      "metadata": {
        "colab": {
          "base_uri": "https://localhost:8080/"
        },
        "id": "6mzQ9plsclI0",
        "outputId": "4ce55381-de07-404d-847d-38c73766f003"
      },
      "execution_count": null,
      "outputs": [
        {
          "output_type": "execute_result",
          "data": {
            "text/plain": [
              "(5,)"
            ]
          },
          "metadata": {},
          "execution_count": 12
        }
      ]
    },
    {
      "cell_type": "code",
      "source": [
        "type(tamanho)"
      ],
      "metadata": {
        "colab": {
          "base_uri": "https://localhost:8080/"
        },
        "id": "CxYfOB97cp09",
        "outputId": "643702b8-72b5-49f2-8ed3-2fb65aceb6e2"
      },
      "execution_count": null,
      "outputs": [
        {
          "output_type": "execute_result",
          "data": {
            "text/plain": [
              "tuple"
            ]
          },
          "metadata": {},
          "execution_count": 13
        }
      ]
    },
    {
      "cell_type": "code",
      "source": [
        "tamanho[0]"
      ],
      "metadata": {
        "colab": {
          "base_uri": "https://localhost:8080/"
        },
        "id": "ux10CgEidG2G",
        "outputId": "2b1f6e86-7b16-4830-9e2a-abd4629a9b32"
      },
      "execution_count": null,
      "outputs": [
        {
          "output_type": "execute_result",
          "data": {
            "text/plain": [
              "5"
            ]
          },
          "metadata": {},
          "execution_count": 14
        }
      ]
    },
    {
      "cell_type": "code",
      "source": [
        "# ATRIBUTO: Valor\n",
        "print(f'Tamanho da turma: {bimestre1.shape[0]} alunos')"
      ],
      "metadata": {
        "colab": {
          "base_uri": "https://localhost:8080/"
        },
        "id": "5WAADz_jb0p3",
        "outputId": "ecda857c-1167-4450-f189-fe15c1bf8e48"
      },
      "execution_count": null,
      "outputs": [
        {
          "output_type": "stream",
          "name": "stdout",
          "text": [
            "Tamanho da turma: 5 alunos\n"
          ]
        }
      ]
    },
    {
      "cell_type": "code",
      "source": [
        "# ATRIBUTO: Valor\n",
        "print(f'Tamanho da turma: {len(bimestre1)} alunos')"
      ],
      "metadata": {
        "colab": {
          "base_uri": "https://localhost:8080/"
        },
        "id": "OPimEl8SdNc6",
        "outputId": "2e44119e-0277-462f-a19f-1855107a2a9f"
      },
      "execution_count": null,
      "outputs": [
        {
          "output_type": "stream",
          "name": "stdout",
          "text": [
            "Tamanho da turma: 5 alunos\n"
          ]
        }
      ]
    },
    {
      "cell_type": "code",
      "source": [
        "# ATRIBUTO: Valor\n",
        "T = bimestre1.shape[0]\n",
        "print(f'Tamanho da turma: {T} alunos')"
      ],
      "metadata": {
        "colab": {
          "base_uri": "https://localhost:8080/"
        },
        "id": "FZUdt64kgO2l",
        "outputId": "f7e33297-ad7f-46af-beb1-665b49e00d92"
      },
      "execution_count": null,
      "outputs": [
        {
          "output_type": "stream",
          "name": "stdout",
          "text": [
            "Tamanho da turma: 5 alunos\n"
          ]
        }
      ]
    },
    {
      "cell_type": "markdown",
      "metadata": {
        "id": "Ps7CnX9sEqCh"
      },
      "source": [
        "## Exemplo 3: Métodos / Análise Estatística dos dados"
      ]
    },
    {
      "cell_type": "code",
      "metadata": {
        "id": "jPfEiqUFEzcS"
      },
      "source": [
        "ALUNOS = 50\n",
        "mean = 7.2\n",
        "std = 0.8\n",
        "dataset = numpy.random.normal(mean, std, ALUNOS)"
      ],
      "execution_count": null,
      "outputs": []
    },
    {
      "cell_type": "code",
      "source": [
        "dataset"
      ],
      "metadata": {
        "colab": {
          "base_uri": "https://localhost:8080/"
        },
        "id": "spla4TbAeIN7",
        "outputId": "0a8136ea-c005-4318-a383-d49ddea25ccf"
      },
      "execution_count": null,
      "outputs": [
        {
          "output_type": "execute_result",
          "data": {
            "text/plain": [
              "array([7.89677837, 7.83480333, 7.72844651, 7.28866346, 7.50786981,\n",
              "       8.64895481, 6.59909148, 7.87988195, 7.69590781, 7.04287312,\n",
              "       9.16133828, 7.39124767, 6.10787437, 7.06505708, 7.00024092,\n",
              "       6.72874931, 7.75274315, 7.34460595, 7.48348395, 8.20644711,\n",
              "       8.32348443, 6.54692167, 6.89647722, 5.80429697, 7.56042116,\n",
              "       5.65862027, 7.02566242, 7.77754976, 8.65053751, 7.96300823,\n",
              "       5.66081325, 6.75156242, 7.89440647, 8.18275869, 8.87385932,\n",
              "       4.63848398, 7.55954655, 8.04867228, 7.12204398, 6.13006991,\n",
              "       6.75855987, 7.67336469, 6.57528712, 8.36712176, 7.78860183,\n",
              "       6.06768939, 6.09522426, 6.59638791, 6.97331483, 7.88909574])"
            ]
          },
          "metadata": {},
          "execution_count": 301
        }
      ]
    },
    {
      "cell_type": "code",
      "source": [
        "# ATRIBUTO (ESTADO) SHAPE: FORMA DO ARRAY: (LINHAS, COLUNAS) = (50, 1)\n",
        "dataset.shape"
      ],
      "metadata": {
        "colab": {
          "base_uri": "https://localhost:8080/"
        },
        "id": "dm1kQpAVa2Nn",
        "outputId": "7620b4e6-ca6b-4f2c-d76d-0dd14b3196fe"
      },
      "execution_count": null,
      "outputs": [
        {
          "output_type": "execute_result",
          "data": {
            "text/plain": [
              "(50,)"
            ]
          },
          "metadata": {},
          "execution_count": 302
        }
      ]
    },
    {
      "cell_type": "code",
      "source": [
        "type(dataset)"
      ],
      "metadata": {
        "colab": {
          "base_uri": "https://localhost:8080/"
        },
        "id": "mr16c86si51q",
        "outputId": "6a5c1aaa-71e7-4f06-c65b-24a276025c5b"
      },
      "execution_count": null,
      "outputs": [
        {
          "output_type": "execute_result",
          "data": {
            "text/plain": [
              "numpy.ndarray"
            ]
          },
          "metadata": {},
          "execution_count": 303
        }
      ]
    },
    {
      "cell_type": "code",
      "source": [
        "def range(dataset):\n",
        "  return dataset.max() - dataset.min()"
      ],
      "metadata": {
        "id": "czHFm2A-iGhb"
      },
      "execution_count": null,
      "outputs": []
    },
    {
      "cell_type": "code",
      "source": [
        "'''\n",
        "MÉTODOS (COMPORTAMENTO): FUNCIONALIDADES\n",
        "MÉTRICAS ESTATÍSTICAS:\n",
        "Média = mean\n",
        "Mediana = median\n",
        "Mínimo = min\n",
        "Máximo = max\n",
        "Desvio Padrão: std\n",
        "Amplitude = range = max - min\n",
        "'''\n",
        "print(f'DATASET: 1º BIMESTRE {dataset.shape[0]} ALUNOS')\n",
        "print('MÉTRICAS ESTATÍSTICAS: ')\n",
        "print(f'Mínimo: {dataset.min(): .1f}')\n",
        "print(f'Mínimo: {numpy.min(dataset): .1f}')\n",
        "print(f'Máximo: {dataset.max(): .1f}')\n",
        "print(f'Amplitude: {dataset.max() - dataset.min(): .1f}')\n",
        "print(f'Amplitude: {range(dataset): .1f}')\n",
        "print(f'Média: {dataset.mean(): .1f}')\n",
        "print(f'Desvio Padrão: {dataset.std(): .1f}')"
      ],
      "metadata": {
        "colab": {
          "base_uri": "https://localhost:8080/"
        },
        "id": "wovEBieIl5uY",
        "outputId": "6be2692a-b447-44a6-e9eb-cde8e3bfbf52"
      },
      "execution_count": null,
      "outputs": [
        {
          "output_type": "stream",
          "name": "stdout",
          "text": [
            "DATASET: 1º BIMESTRE 50 ALUNOS\n",
            "MÉTRICAS ESTATÍSTICAS: \n",
            "Mínimo:  4.6\n",
            "Mínimo:  4.6\n",
            "Máximo:  9.2\n",
            "Amplitude:  4.5\n",
            "Amplitude:  4.5\n",
            "Média:  7.3\n",
            "Desvio Padrão:  0.9\n"
          ]
        }
      ]
    },
    {
      "cell_type": "markdown",
      "metadata": {
        "id": "s4ARt1h46Kg5"
      },
      "source": [
        "# Fatiamento (slicing):"
      ]
    },
    {
      "cell_type": "markdown",
      "metadata": {
        "id": "4JykagxQ6awp"
      },
      "source": [
        "**Criar subconjuntos do conjunto principal.**"
      ]
    },
    {
      "cell_type": "code",
      "metadata": {
        "id": "hArjybPC6uTy",
        "colab": {
          "base_uri": "https://localhost:8080/"
        },
        "outputId": "246c53b4-3fe8-4bff-ace5-3233be2c938a"
      },
      "source": [
        "# MÉTODO DE ORDENAÇÃO: SORT\n",
        "dataset.sort()\n",
        "dataset"
      ],
      "execution_count": null,
      "outputs": [
        {
          "output_type": "execute_result",
          "data": {
            "text/plain": [
              "array([4.63848398, 5.65862027, 5.66081325, 5.80429697, 6.06768939,\n",
              "       6.09522426, 6.10787437, 6.13006991, 6.54692167, 6.57528712,\n",
              "       6.59638791, 6.59909148, 6.72874931, 6.75156242, 6.75855987,\n",
              "       6.89647722, 6.97331483, 7.00024092, 7.02566242, 7.04287312,\n",
              "       7.06505708, 7.12204398, 7.28866346, 7.34460595, 7.39124767,\n",
              "       7.48348395, 7.50786981, 7.55954655, 7.56042116, 7.67336469,\n",
              "       7.69590781, 7.72844651, 7.75274315, 7.77754976, 7.78860183,\n",
              "       7.83480333, 7.87988195, 7.88909574, 7.89440647, 7.89677837,\n",
              "       7.96300823, 8.04867228, 8.18275869, 8.20644711, 8.32348443,\n",
              "       8.36712176, 8.64895481, 8.65053751, 8.87385932, 9.16133828])"
            ]
          },
          "metadata": {},
          "execution_count": 306
        }
      ]
    },
    {
      "cell_type": "markdown",
      "metadata": {
        "id": "YFr9TpsY8bBT"
      },
      "source": [
        "## Fatiamento crescente:"
      ]
    },
    {
      "cell_type": "code",
      "metadata": {
        "colab": {
          "base_uri": "https://localhost:8080/"
        },
        "id": "t6LnPoYX8hXi",
        "outputId": "771ec889-fb3a-4f10-92d1-ca82a44df478"
      },
      "source": [
        "\"\"\"\n",
        "subdataset = dataset[start:stop:step]\n",
        "por default:\n",
        "subdataset = dataset[0:MAX:1]\n",
        "start: 0\n",
        "stop : MAX (não incluso)\n",
        "step : 1\n",
        "\"\"\"\n",
        "dataset"
      ],
      "execution_count": null,
      "outputs": [
        {
          "output_type": "execute_result",
          "data": {
            "text/plain": [
              "array([4.63848398, 5.65862027, 5.66081325, 5.80429697, 6.06768939,\n",
              "       6.09522426, 6.10787437, 6.13006991, 6.54692167, 6.57528712,\n",
              "       6.59638791, 6.59909148, 6.72874931, 6.75156242, 6.75855987,\n",
              "       6.89647722, 6.97331483, 7.00024092, 7.02566242, 7.04287312,\n",
              "       7.06505708, 7.12204398, 7.28866346, 7.34460595, 7.39124767,\n",
              "       7.48348395, 7.50786981, 7.55954655, 7.56042116, 7.67336469,\n",
              "       7.69590781, 7.72844651, 7.75274315, 7.77754976, 7.78860183,\n",
              "       7.83480333, 7.87988195, 7.88909574, 7.89440647, 7.89677837,\n",
              "       7.96300823, 8.04867228, 8.18275869, 8.20644711, 8.32348443,\n",
              "       8.36712176, 8.64895481, 8.65053751, 8.87385932, 9.16133828])"
            ]
          },
          "metadata": {},
          "execution_count": 307
        }
      ]
    },
    {
      "cell_type": "code",
      "metadata": {
        "id": "rPURvU8q9cl9",
        "colab": {
          "base_uri": "https://localhost:8080/"
        },
        "outputId": "5e5a9cdc-abb3-4365-a64c-fb4ff61a00c2"
      },
      "source": [
        "# por default:\n",
        "dataset[0:50:1]"
      ],
      "execution_count": null,
      "outputs": [
        {
          "output_type": "execute_result",
          "data": {
            "text/plain": [
              "array([4.63848398, 5.65862027, 5.66081325, 5.80429697, 6.06768939,\n",
              "       6.09522426, 6.10787437, 6.13006991, 6.54692167, 6.57528712,\n",
              "       6.59638791, 6.59909148, 6.72874931, 6.75156242, 6.75855987,\n",
              "       6.89647722, 6.97331483, 7.00024092, 7.02566242, 7.04287312,\n",
              "       7.06505708, 7.12204398, 7.28866346, 7.34460595, 7.39124767,\n",
              "       7.48348395, 7.50786981, 7.55954655, 7.56042116, 7.67336469,\n",
              "       7.69590781, 7.72844651, 7.75274315, 7.77754976, 7.78860183,\n",
              "       7.83480333, 7.87988195, 7.88909574, 7.89440647, 7.89677837,\n",
              "       7.96300823, 8.04867228, 8.18275869, 8.20644711, 8.32348443,\n",
              "       8.36712176, 8.64895481, 8.65053751, 8.87385932, 9.16133828])"
            ]
          },
          "metadata": {},
          "execution_count": 308
        }
      ]
    },
    {
      "cell_type": "code",
      "metadata": {
        "colab": {
          "base_uri": "https://localhost:8080/"
        },
        "id": "vHD2QBTQ9nbM",
        "outputId": "f27d5823-b78d-4499-cd32-58795ea6bfb2"
      },
      "source": [
        "dataset[:5]"
      ],
      "execution_count": null,
      "outputs": [
        {
          "output_type": "execute_result",
          "data": {
            "text/plain": [
              "array([4.63848398, 5.65862027, 5.66081325, 5.80429697, 6.06768939])"
            ]
          },
          "metadata": {},
          "execution_count": 309
        }
      ]
    },
    {
      "cell_type": "code",
      "metadata": {
        "colab": {
          "base_uri": "https://localhost:8080/"
        },
        "id": "jeM5gBWi-pbK",
        "outputId": "c394c6a3-938f-4033-fb3b-7572522aadcb"
      },
      "source": [
        "dataset[45:]"
      ],
      "execution_count": null,
      "outputs": [
        {
          "output_type": "execute_result",
          "data": {
            "text/plain": [
              "array([8.36712176, 8.64895481, 8.65053751, 8.87385932, 9.16133828])"
            ]
          },
          "metadata": {},
          "execution_count": 310
        }
      ]
    },
    {
      "cell_type": "code",
      "source": [
        "subdataset = dataset[:5]\n",
        "len(subdataset)"
      ],
      "metadata": {
        "colab": {
          "base_uri": "https://localhost:8080/"
        },
        "id": "1zKv-ZW8BHAw",
        "outputId": "30fe21ba-28c5-4ec5-ab98-b48d89bd001b"
      },
      "execution_count": null,
      "outputs": [
        {
          "output_type": "execute_result",
          "data": {
            "text/plain": [
              "5"
            ]
          },
          "metadata": {},
          "execution_count": 311
        }
      ]
    },
    {
      "cell_type": "code",
      "source": [
        "subdataset[0]"
      ],
      "metadata": {
        "colab": {
          "base_uri": "https://localhost:8080/"
        },
        "id": "4KjGP2HHlUCf",
        "outputId": "efe51c22-17d4-4fd3-ef86-ad54238a6013"
      },
      "execution_count": null,
      "outputs": [
        {
          "output_type": "execute_result",
          "data": {
            "text/plain": [
              "4.638483975490828"
            ]
          },
          "metadata": {},
          "execution_count": 312
        }
      ]
    },
    {
      "cell_type": "markdown",
      "metadata": {
        "id": "AC7TnzV0_OlI"
      },
      "source": [
        "### 1º Quartil: "
      ]
    },
    {
      "cell_type": "code",
      "source": [
        "dataset.sort()\n",
        "dataset"
      ],
      "metadata": {
        "id": "6OdOrydumaKL",
        "colab": {
          "base_uri": "https://localhost:8080/"
        },
        "outputId": "2c6fdae6-a661-45e0-fab5-0baf56cabc09"
      },
      "execution_count": null,
      "outputs": [
        {
          "output_type": "execute_result",
          "data": {
            "text/plain": [
              "array([4.63848398, 5.65862027, 5.66081325, 5.80429697, 6.06768939,\n",
              "       6.09522426, 6.10787437, 6.13006991, 6.54692167, 6.57528712,\n",
              "       6.59638791, 6.59909148, 6.72874931, 6.75156242, 6.75855987,\n",
              "       6.89647722, 6.97331483, 7.00024092, 7.02566242, 7.04287312,\n",
              "       7.06505708, 7.12204398, 7.28866346, 7.34460595, 7.39124767,\n",
              "       7.48348395, 7.50786981, 7.55954655, 7.56042116, 7.67336469,\n",
              "       7.69590781, 7.72844651, 7.75274315, 7.77754976, 7.78860183,\n",
              "       7.83480333, 7.87988195, 7.88909574, 7.89440647, 7.89677837,\n",
              "       7.96300823, 8.04867228, 8.18275869, 8.20644711, 8.32348443,\n",
              "       8.36712176, 8.64895481, 8.65053751, 8.87385932, 9.16133828])"
            ]
          },
          "metadata": {},
          "execution_count": 313
        }
      ]
    },
    {
      "cell_type": "code",
      "metadata": {
        "colab": {
          "base_uri": "https://localhost:8080/"
        },
        "id": "vwSpr2Pn_NGt",
        "outputId": "97ffcd08-2243-4eeb-cec5-005d597a7cbf"
      },
      "source": [
        "Q1 = dataset[:len(dataset)//4]\n",
        "Q1"
      ],
      "execution_count": null,
      "outputs": [
        {
          "output_type": "execute_result",
          "data": {
            "text/plain": [
              "array([4.63848398, 5.65862027, 5.66081325, 5.80429697, 6.06768939,\n",
              "       6.09522426, 6.10787437, 6.13006991, 6.54692167, 6.57528712,\n",
              "       6.59638791, 6.59909148])"
            ]
          },
          "metadata": {},
          "execution_count": 314
        }
      ]
    },
    {
      "cell_type": "code",
      "source": [
        "len(Q1)"
      ],
      "metadata": {
        "colab": {
          "base_uri": "https://localhost:8080/"
        },
        "id": "Mh-mOcs-oHrS",
        "outputId": "69a344c0-d00b-4856-8000-f58b4414bd1e"
      },
      "execution_count": null,
      "outputs": [
        {
          "output_type": "execute_result",
          "data": {
            "text/plain": [
              "12"
            ]
          },
          "metadata": {},
          "execution_count": 315
        }
      ]
    },
    {
      "cell_type": "code",
      "metadata": {
        "colab": {
          "base_uri": "https://localhost:8080/"
        },
        "id": "t7Pp1ZYl_vYf",
        "outputId": "4f28af41-5574-4adf-e9b1-bf95edc8beab"
      },
      "source": [
        "q1 = numpy.quantile(dataset, 1/4)\n",
        "print(f'1º QUARTIL: {q1: .1f}')"
      ],
      "execution_count": null,
      "outputs": [
        {
          "output_type": "stream",
          "name": "stdout",
          "text": [
            "1º QUARTIL:  6.7\n"
          ]
        }
      ]
    },
    {
      "cell_type": "markdown",
      "metadata": {
        "id": "dxINSa1uAteL"
      },
      "source": [
        "### 2º Quartil = Mediana: "
      ]
    },
    {
      "cell_type": "code",
      "metadata": {
        "colab": {
          "base_uri": "https://localhost:8080/"
        },
        "id": "Lv1ZGnryA0re",
        "outputId": "0f4b30d3-1f2d-4cc1-cc43-42aafc18bb0f"
      },
      "source": [
        "quartil2 = dataset[len(dataset) // 4:3 * len(dataset)//4:]\n",
        "quartil2"
      ],
      "execution_count": null,
      "outputs": [
        {
          "output_type": "execute_result",
          "data": {
            "text/plain": [
              "array([6.72874931, 6.75156242, 6.75855987, 6.89647722, 6.97331483,\n",
              "       7.00024092, 7.02566242, 7.04287312, 7.06505708, 7.12204398,\n",
              "       7.28866346, 7.34460595, 7.39124767, 7.48348395, 7.50786981,\n",
              "       7.55954655, 7.56042116, 7.67336469, 7.69590781, 7.72844651,\n",
              "       7.75274315, 7.77754976, 7.78860183, 7.83480333, 7.87988195])"
            ]
          },
          "metadata": {},
          "execution_count": 317
        }
      ]
    },
    {
      "cell_type": "code",
      "metadata": {
        "colab": {
          "base_uri": "https://localhost:8080/"
        },
        "id": "sZg-RLFOBAod",
        "outputId": "4cac88fe-ee7f-46b2-c48b-42451bda777e"
      },
      "source": [
        "len(quartil2)"
      ],
      "execution_count": null,
      "outputs": [
        {
          "output_type": "execute_result",
          "data": {
            "text/plain": [
              "25"
            ]
          },
          "metadata": {},
          "execution_count": 318
        }
      ]
    },
    {
      "cell_type": "code",
      "source": [
        "q2 = numpy.quantile(dataset, 1/2)\n",
        "print(f'2º QUARTIL: {q2: .1f}')"
      ],
      "metadata": {
        "colab": {
          "base_uri": "https://localhost:8080/"
        },
        "id": "asw8oHNsg6ti",
        "outputId": "ea53f438-cb93-4749-eb5a-ff5c30c0d583"
      },
      "execution_count": null,
      "outputs": [
        {
          "output_type": "stream",
          "name": "stdout",
          "text": [
            "2º QUARTIL:  7.4\n"
          ]
        }
      ]
    },
    {
      "cell_type": "markdown",
      "metadata": {
        "id": "ITa_1lNGBXiA"
      },
      "source": [
        "### 3º Quartil:"
      ]
    },
    {
      "cell_type": "code",
      "metadata": {
        "colab": {
          "base_uri": "https://localhost:8080/"
        },
        "id": "RC0FXanUBZET",
        "outputId": "94b70825-f65e-4511-cdfd-b028b271f97a"
      },
      "source": [
        "quartil3 = dataset[3*len(dataset)//4::]\n",
        "quartil3"
      ],
      "execution_count": null,
      "outputs": [
        {
          "output_type": "execute_result",
          "data": {
            "text/plain": [
              "array([7.88909574, 7.89440647, 7.89677837, 7.96300823, 8.04867228,\n",
              "       8.18275869, 8.20644711, 8.32348443, 8.36712176, 8.64895481,\n",
              "       8.65053751, 8.87385932, 9.16133828])"
            ]
          },
          "metadata": {},
          "execution_count": 320
        }
      ]
    },
    {
      "cell_type": "code",
      "source": [
        "q3 = numpy.quantile(dataset, 3/4)\n",
        "print(f'3º QUARTIL: {q3: .1f}')"
      ],
      "metadata": {
        "colab": {
          "base_uri": "https://localhost:8080/"
        },
        "id": "bkRIywmXhDg1",
        "outputId": "a1167b77-9a02-4266-e076-1ae28814e246"
      },
      "execution_count": null,
      "outputs": [
        {
          "output_type": "stream",
          "name": "stdout",
          "text": [
            "3º QUARTIL:  7.9\n"
          ]
        }
      ]
    },
    {
      "cell_type": "markdown",
      "source": [
        "EXEMPLO DE APLICAÇÃO: Calculos dos valores discrepantes - OUTLIERS:"
      ],
      "metadata": {
        "id": "18lBcC4Hd0RL"
      }
    },
    {
      "cell_type": "markdown",
      "source": [
        "Os OUTLIERS são valores que estão:\n",
        "\n",
        "*   ACIMA  DO LIMITE SUPERIOR = Q3 + 1.5 * IQ\n",
        "*   ABAIXO DO LIMITE INFERIOR = Q1 - 1.5 * IQ\n",
        "*   IQ - Distância inter-quartil: Q3 - Q1 "
      ],
      "metadata": {
        "id": "vimYHf4yd_Sp"
      }
    },
    {
      "cell_type": "markdown",
      "source": [
        "![image.png](data:image/png;base64,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)"
      ],
      "metadata": {
        "id": "C9E74ZxfembG"
      }
    },
    {
      "cell_type": "code",
      "source": [
        "def BoxPlot(dataset):\n",
        "  \"\"\"\n",
        "  Distância Inter-Quartil\n",
        "  IQ = Q3 - Q1\n",
        "  Limite Inferior - LI = Q1 - 1.5 * IQ\n",
        "  Limite Superior - LS = Q3 + 1.5 * IQ\n",
        "  \"\"\"\n",
        "  Q1 = numpy.quantile(dataset,0.25)\n",
        "  Q3 = numpy.quantile(dataset,0.75)\n",
        "  IQ = Q3 - Q1\n",
        "  LI = Q1 - 1.5 * IQ\n",
        "  LS = Q3 + 1.5 * IQ\n",
        "  return IQ, LI, LS"
      ],
      "metadata": {
        "id": "bWXSGfocfEWS"
      },
      "execution_count": null,
      "outputs": []
    },
    {
      "cell_type": "markdown",
      "source": [
        "GRÁFICO BOXPLOT"
      ],
      "metadata": {
        "id": "tiymV6dTgQXQ"
      }
    },
    {
      "cell_type": "code",
      "source": [
        "import matplotlib.pyplot as plt"
      ],
      "metadata": {
        "id": "1rDOC6aHgUCo"
      },
      "execution_count": null,
      "outputs": []
    },
    {
      "cell_type": "code",
      "source": [
        "fig1, ax1 = plt.subplots()\n",
        "ax1.set_title('BOX PLOT GRAFIC')\n",
        "ax1.boxplot(dataset)\n",
        "plt.ylabel('NOTA DA TURMA')\n",
        "plt.show()"
      ],
      "metadata": {
        "colab": {
          "base_uri": "https://localhost:8080/",
          "height": 452
        },
        "id": "cRxgx0b2hvSs",
        "outputId": "a30395ae-058b-4c51-bcdd-fe6040e0b802"
      },
      "execution_count": null,
      "outputs": [
        {
          "output_type": "display_data",
          "data": {
            "text/plain": [
              "<Figure size 640x480 with 1 Axes>"
            ],
            "image/png": "[encoded data removed]"
          },
          "metadata": {}
        }
      ]
    },
    {
      "cell_type": "code",
      "source": [
        "IQ, LI, LS = BoxPlot(dataset)\n",
        "print('Dados do Box Plot: ')\n",
        "print(f'Distância Inter-Quartil: {IQ: .1f}')\n",
        "print(f'Limite Inferior - LI: {LI: .1f}')\n",
        "print(f'Limite Superior - LS: {LS: .1f}')"
      ],
      "metadata": {
        "colab": {
          "base_uri": "https://localhost:8080/"
        },
        "id": "N6-fIyd0mRT3",
        "outputId": "cc18f6d2-c769-48d1-fa59-5e24d97ccf95"
      },
      "execution_count": null,
      "outputs": [
        {
          "output_type": "stream",
          "name": "stdout",
          "text": [
            "Dados do Box Plot: \n",
            "Distância Inter-Quartil:  1.2\n",
            "Limite Inferior - LI:  5.0\n",
            "Limite Superior - LS:  9.6\n"
          ]
        }
      ]
    },
    {
      "cell_type": "markdown",
      "metadata": {
        "id": "eeSh6l8fB1Zv"
      },
      "source": [
        "## Fatiamento descrescente (index):"
      ]
    },
    {
      "cell_type": "code",
      "metadata": {
        "id": "daiHB6U6COp2",
        "colab": {
          "base_uri": "https://localhost:8080/"
        },
        "outputId": "d0ce2ebd-a7ca-4c07-d72b-54fa6b9b69e1"
      },
      "source": [
        "\"\"\"\n",
        "Fatiamento Decrescente:\n",
        "subdataset = dataset[start: stop: step]\n",
        "\n",
        "Valores Deafault:\n",
        "start: -1\n",
        "stop: - MAX (não incluso)\n",
        "step: -1\n",
        "\"\"\"\n",
        "dataset"
      ],
      "execution_count": null,
      "outputs": [
        {
          "output_type": "execute_result",
          "data": {
            "text/plain": [
              "array([4.63848398, 5.65862027, 5.66081325, 5.80429697, 6.06768939,\n",
              "       6.09522426, 6.10787437, 6.13006991, 6.54692167, 6.57528712,\n",
              "       6.59638791, 6.59909148, 6.72874931, 6.75156242, 6.75855987,\n",
              "       6.89647722, 6.97331483, 7.00024092, 7.02566242, 7.04287312,\n",
              "       7.06505708, 7.12204398, 7.28866346, 7.34460595, 7.39124767,\n",
              "       7.48348395, 7.50786981, 7.55954655, 7.56042116, 7.67336469,\n",
              "       7.69590781, 7.72844651, 7.75274315, 7.77754976, 7.78860183,\n",
              "       7.83480333, 7.87988195, 7.88909574, 7.89440647, 7.89677837,\n",
              "       7.96300823, 8.04867228, 8.18275869, 8.20644711, 8.32348443,\n",
              "       8.36712176, 8.64895481, 8.65053751, 8.87385932, 9.16133828])"
            ]
          },
          "metadata": {},
          "execution_count": 326
        }
      ]
    },
    {
      "cell_type": "code",
      "source": [
        "datasetinv = dataset[-1:-51:-1]\n",
        "datasetinv"
      ],
      "metadata": {
        "colab": {
          "base_uri": "https://localhost:8080/"
        },
        "id": "gdTbIbMYHu72",
        "outputId": "391c1e5d-3970-42c5-f785-f3faa7a1618b"
      },
      "execution_count": null,
      "outputs": [
        {
          "output_type": "execute_result",
          "data": {
            "text/plain": [
              "array([9.16133828, 8.87385932, 8.65053751, 8.64895481, 8.36712176,\n",
              "       8.32348443, 8.20644711, 8.18275869, 8.04867228, 7.96300823,\n",
              "       7.89677837, 7.89440647, 7.88909574, 7.87988195, 7.83480333,\n",
              "       7.78860183, 7.77754976, 7.75274315, 7.72844651, 7.69590781,\n",
              "       7.67336469, 7.56042116, 7.55954655, 7.50786981, 7.48348395,\n",
              "       7.39124767, 7.34460595, 7.28866346, 7.12204398, 7.06505708,\n",
              "       7.04287312, 7.02566242, 7.00024092, 6.97331483, 6.89647722,\n",
              "       6.75855987, 6.75156242, 6.72874931, 6.59909148, 6.59638791,\n",
              "       6.57528712, 6.54692167, 6.13006991, 6.10787437, 6.09522426,\n",
              "       6.06768939, 5.80429697, 5.66081325, 5.65862027, 4.63848398])"
            ]
          },
          "metadata": {},
          "execution_count": 327
        }
      ]
    },
    {
      "cell_type": "code",
      "source": [
        "dataset[-1:-6:-1]"
      ],
      "metadata": {
        "colab": {
          "base_uri": "https://localhost:8080/"
        },
        "id": "GFBA9HDCnfMh",
        "outputId": "d0ba681d-a679-4b76-9710-894a0f9b28c8"
      },
      "execution_count": null,
      "outputs": [
        {
          "output_type": "execute_result",
          "data": {
            "text/plain": [
              "array([9.16133828, 8.87385932, 8.65053751, 8.64895481, 8.36712176])"
            ]
          },
          "metadata": {},
          "execution_count": 328
        }
      ]
    },
    {
      "cell_type": "markdown",
      "metadata": {
        "id": "hv_DkqvK8ofX"
      },
      "source": [
        "# COMANDO: IN (valor) + ENUMERATE (indice, valor)"
      ]
    },
    {
      "cell_type": "code",
      "metadata": {
        "colab": {
          "base_uri": "https://localhost:8080/"
        },
        "id": "N2fNwiEH8sa7",
        "outputId": "6a0f6558-7307-497a-b046-80952e20ee33"
      },
      "source": [
        "print('As cinco menores notas da turma: ')\n",
        "for indice, valor in enumerate(dataset[:5]):\n",
        "  print(f'Aluno {indice + 1}: {valor: .1f}')"
      ],
      "execution_count": null,
      "outputs": [
        {
          "output_type": "stream",
          "name": "stdout",
          "text": [
            "As cinco menores notas da turma: \n",
            "Aluno 1:  4.6\n",
            "Aluno 2:  5.7\n",
            "Aluno 3:  5.7\n",
            "Aluno 4:  5.8\n",
            "Aluno 5:  6.1\n"
          ]
        }
      ]
    },
    {
      "cell_type": "code",
      "metadata": {
        "colab": {
          "base_uri": "https://localhost:8080/"
        },
        "id": "2yR6Sbv29l-_",
        "outputId": "a6a5fd8f-ca1d-43a8-a586-8db4520a7a13"
      },
      "source": [
        "print('As cinco maiores notas da turma: ')\n",
        "for indice, valor in enumerate(dataset[:-6:-1]):\n",
        "  print(f'Aluno {indice + 1}: {valor: .1f}')"
      ],
      "execution_count": null,
      "outputs": [
        {
          "output_type": "stream",
          "name": "stdout",
          "text": [
            "As cinco maiores notas da turma: \n",
            "Aluno 1:  9.2\n",
            "Aluno 2:  8.9\n",
            "Aluno 3:  8.7\n",
            "Aluno 4:  8.6\n",
            "Aluno 5:  8.4\n"
          ]
        }
      ]
    },
    {
      "cell_type": "markdown",
      "source": [
        "# DATASET 1: TOTAL DE COMPRAS (R$) DOS CLIENTES"
      ],
      "metadata": {
        "id": "oqA4YWkBLvx7"
      }
    },
    {
      "cell_type": "markdown",
      "source": [
        "EXEMPLO 1: link do dataset: [aqui!](https://drive.google.com/file/d/1WDwW--u_P1I_scNWxWvvT4KycMI2SnXr/view?usp=sharing)"
      ],
      "metadata": {
        "id": "LYVNJBS5J_Bj"
      }
    },
    {
      "cell_type": "code",
      "source": [
        "import numpy"
      ],
      "metadata": {
        "id": "R3vI1IgJgL7O"
      },
      "execution_count": 2,
      "outputs": []
    },
    {
      "cell_type": "code",
      "source": [
        "dataset = numpy.load('/content/dataset.npy')"
      ],
      "metadata": {
        "id": "j4uTtjlUKApV"
      },
      "execution_count": 4,
      "outputs": []
    },
    {
      "cell_type": "code",
      "source": [
        "print('RELATÓRIO: Preço das 10 primeiras mercadorias: ')\n",
        "for indice,valor in enumerate(dataset[:10]):\n",
        "  print(f'{indice + 1}º Mercadoria: R$ {valor: .2f}')"
      ],
      "metadata": {
        "id": "FwfaHV2MN9Hj",
        "colab": {
          "base_uri": "https://localhost:8080/"
        },
        "outputId": "77472806-408b-4e3a-f89a-e1f8d3b5d316"
      },
      "execution_count": 6,
      "outputs": [
        {
          "output_type": "stream",
          "name": "stdout",
          "text": [
            "RELATÓRIO: Preço das 10 primeiras mercadorias: \n",
            "1º Mercadoria: R$  497.42\n",
            "2º Mercadoria: R$  581.80\n",
            "3º Mercadoria: R$  522.28\n",
            "4º Mercadoria: R$  448.56\n",
            "5º Mercadoria: R$  544.01\n",
            "6º Mercadoria: R$  398.66\n",
            "7º Mercadoria: R$  483.48\n",
            "8º Mercadoria: R$  500.89\n",
            "9º Mercadoria: R$  472.38\n",
            "10º Mercadoria: R$  504.33\n"
          ]
        }
      ]
    },
    {
      "cell_type": "markdown",
      "source": [
        "Faça as seguintes questões:"
      ],
      "metadata": {
        "id": "rC8uoN4QLtAR"
      }
    },
    {
      "cell_type": "markdown",
      "source": [
        "## LETRA A: Exibir as métricas estatísticas deste conjunto"
      ],
      "metadata": {
        "id": "hkhXW-IrL7pZ"
      }
    },
    {
      "cell_type": "code",
      "source": [
        "print(f'Métricas estatísticas do conjunto de {len(dataset)} Clientes:')\n",
        "print(f'Gasto Médio por cliente: R$ {dataset.mean(): .2f}')\n",
        "print(f'Menor gasto do cliente: R$ {dataset.min(): .2f}')\n",
        "print(f'Maior gasto do cliente: R$ {dataset.max(): .2f}')\n",
        "print('DADOS POR QUARTIL:')\n",
        "print(f'1º Quartil: R$ {numpy.quantile(dataset, 1/4): .2f}')\n",
        "print(f'2º Quartil: R$ {numpy.quantile(dataset, 1/2): .2f}')\n",
        "print(f'3º Quartil: R$ {numpy.quantile(dataset, 3/4): .2f}')"
      ],
      "metadata": {
        "id": "_gQIbxIDNYjc",
        "colab": {
          "base_uri": "https://localhost:8080/"
        },
        "outputId": "9b4e5324-45f1-4bc7-ede2-2794b181b1cc"
      },
      "execution_count": 7,
      "outputs": [
        {
          "output_type": "stream",
          "name": "stdout",
          "text": [
            "Métricas estatísticas do conjunto de 874 Clientes:\n",
            "Gasto Médio por cliente: R$  503.87\n",
            "Menor gasto do cliente: R$  286.41\n",
            "Maior gasto do cliente: R$  687.21\n",
            "DADOS POR QUARTIL:\n",
            "1º Quartil: R$  467.71\n",
            "2º Quartil: R$  502.60\n",
            "3º Quartil: R$  543.17\n"
          ]
        }
      ]
    },
    {
      "cell_type": "markdown",
      "source": [
        "## LETRA B: Exibir as métricas estatísticas dos 25% dos clientes que mais gastam."
      ],
      "metadata": {
        "id": "lYyNU1tMML3F"
      }
    },
    {
      "cell_type": "code",
      "source": [
        "# coloca os dados em ordem crescente\n",
        "dataset.sort() "
      ],
      "metadata": {
        "id": "aoze6gNoMY-A"
      },
      "execution_count": 8,
      "outputs": []
    },
    {
      "cell_type": "code",
      "source": [
        "print('ORDEM CRESCENTE: As 5 primeiros clientes: ')\n",
        "for indice, valor in enumerate(dataset[:5:]):\n",
        "  print(f'Cliente {indice + 1}: R$ {valor: .2f}')"
      ],
      "metadata": {
        "id": "tfuxKhDJkfdO",
        "colab": {
          "base_uri": "https://localhost:8080/"
        },
        "outputId": "f84f0f3b-2a50-4d91-cc99-507ace173dc8"
      },
      "execution_count": 9,
      "outputs": [
        {
          "output_type": "stream",
          "name": "stdout",
          "text": [
            "ORDEM CRESCENTE: As 5 primeiros clientes: \n",
            "Cliente 1: R$  286.41\n",
            "Cliente 2: R$  336.72\n",
            "Cliente 3: R$  344.72\n",
            "Cliente 4: R$  358.84\n",
            "Cliente 5: R$  359.25\n"
          ]
        }
      ]
    },
    {
      "cell_type": "code",
      "source": [
        "Q3 = dataset[3*len(dataset)//4::]\n",
        "Q3"
      ],
      "metadata": {
        "id": "btGnux2hoyGi",
        "outputId": "d4cfd206-2e4c-4c1f-b627-a937f8489ec2",
        "colab": {
          "base_uri": "https://localhost:8080/"
        }
      },
      "execution_count": 10,
      "outputs": [
        {
          "output_type": "execute_result",
          "data": {
            "text/plain": [
              "array([543.22333679, 543.23951981, 543.26547725, 543.39583958,\n",
              "       543.67579919, 543.7804572 , 543.96760941, 544.00740973,\n",
              "       544.2596528 , 544.31510332, 544.37717036, 544.55586741,\n",
              "       545.42448119, 545.46760013, 545.5747289 , 545.71017084,\n",
              "       546.28669144, 546.5200929 , 546.92288965, 547.34094946,\n",
              "       547.42303997, 547.83217692, 548.03319118, 548.28972573,\n",
              "       548.54078095, 549.21781421, 549.92667387, 550.01169063,\n",
              "       550.4918159 , 551.21370887, 551.38536412, 551.53410146,\n",
              "       551.67478559, 551.82079744, 551.87087313, 551.97066108,\n",
              "       552.06909832, 552.11263655, 552.12820988, 552.25372785,\n",
              "       552.32762293, 553.23336389, 553.73525706, 553.85965261,\n",
              "       553.97285792, 554.16406116, 554.2490013 , 554.29405824,\n",
              "       554.35835808, 554.47019554, 554.51809716, 554.66913031,\n",
              "       554.67843454, 554.72486883, 554.87621495, 555.19492149,\n",
              "       555.84804565, 555.92875583, 556.48483824, 556.80982487,\n",
              "       556.88907531, 556.94766198, 558.2643946 , 558.29166519,\n",
              "       558.43089142, 558.6184502 , 558.75475418, 559.14103236,\n",
              "       559.14129822, 559.42063515, 559.82580442, 560.05576166,\n",
              "       560.22304048, 560.5978922 , 560.80715853, 560.8246347 ,\n",
              "       560.90420849, 560.97535147, 560.98527356, 561.03466882,\n",
              "       561.80537429, 561.8390564 , 562.10366156, 562.62482247,\n",
              "       562.68940028, 562.79213502, 563.09134264, 563.14267997,\n",
              "       563.20201475, 563.21634783, 563.90579111, 563.99958485,\n",
              "       564.00973681, 564.84696472, 564.97014911, 565.18169008,\n",
              "       565.21619515, 565.67330863, 565.79734475, 566.4356762 ,\n",
              "       566.72912633, 566.82935361, 566.84342034, 567.09104209,\n",
              "       567.18561551, 567.52420841, 567.67115249, 567.77770917,\n",
              "       567.79909927, 568.55076259, 568.70188124, 569.37305378,\n",
              "       569.87103664, 570.1031478 , 570.32615962, 571.41232754,\n",
              "       572.35577357, 572.78157601, 572.83645213, 573.08535916,\n",
              "       573.12526911, 573.12928501, 573.21907423, 573.44619175,\n",
              "       573.73626223, 574.04385308, 574.25949362, 575.58325094,\n",
              "       576.68815292, 577.48934791, 577.67938367, 578.05206588,\n",
              "       578.14763479, 578.18304694, 578.32233724, 579.72340907,\n",
              "       579.91533535, 579.92049383, 580.36453679, 580.41384038,\n",
              "       580.89251621, 581.39837845, 581.65501903, 581.80360707,\n",
              "       582.9624546 , 583.42677478, 583.43494262, 583.66507254,\n",
              "       584.07528716, 584.25470607, 584.66781784, 584.85413471,\n",
              "       585.24732193, 585.59088768, 585.78929625, 586.1294688 ,\n",
              "       588.21337343, 588.5094835 , 588.85454403, 589.80456467,\n",
              "       590.29138441, 590.94903198, 591.77089645, 592.60388977,\n",
              "       594.49940311, 595.50837006, 596.26250406, 596.27621132,\n",
              "       596.4805411 , 597.31147286, 598.11919891, 598.98241116,\n",
              "       599.25742218, 599.30748654, 599.68878318, 599.7270615 ,\n",
              "       599.81937778, 599.89473887, 600.74608049, 601.38445714,\n",
              "       602.05437882, 602.23019422, 602.25625604, 602.69942427,\n",
              "       603.21311107, 605.13344737, 605.19882145, 605.24825368,\n",
              "       605.70433479, 607.08739841, 608.45945574, 609.11304957,\n",
              "       609.88949296, 610.78685436, 611.19508943, 611.2820804 ,\n",
              "       611.82612708, 612.32149988, 613.93456599, 614.82160889,\n",
              "       615.24772338, 616.06481571, 618.14343316, 619.92559326,\n",
              "       622.05795519, 622.38305064, 625.02183333, 625.62164253,\n",
              "       630.47134646, 631.92844624, 635.68699758, 637.43369848,\n",
              "       638.19361958, 645.20788791, 655.29321707, 655.75199148,\n",
              "       667.23792246, 668.55261527, 687.21291316])"
            ]
          },
          "metadata": {},
          "execution_count": 10
        }
      ]
    },
    {
      "cell_type": "code",
      "source": [
        "print(f'Métricas estatísticas do 25% de Clientes ({{len(Q3)}}):')\n",
        "print(f'Gasto Médio por cliente: R$ {Q3.mean(): .2f}')\n",
        "print(f'Menor gasto do cliente: R$ {Q3.min(): .2f}')\n",
        "print(f'Maior gasto do cliente: R$ {Q3.max(): .2f}')\n",
        "print('DADOS POR QUARTIL:')\n",
        "print(f'1º Quartil: R$ {numpy.quantile(Q3, 1/4): .2f}')\n",
        "print(f'2º Quartil: R$ {numpy.quantile(Q3, 1/2): .2f}')\n",
        "print(f'3º Quartil: R$ {numpy.quantile(Q3, 3/4): .2f}')"
      ],
      "metadata": {
        "id": "ds2iSU2upJUV",
        "colab": {
          "base_uri": "https://localhost:8080/"
        },
        "outputId": "de465dc4-4cdd-4a61-ce43-f7dc1e9222c5"
      },
      "execution_count": 11,
      "outputs": [
        {
          "output_type": "stream",
          "name": "stdout",
          "text": [
            "Métricas estatísticas do 25% de Clientes ({len(Q3)}):\n",
            "Gasto Médio por cliente: R$  576.67\n",
            "Menor gasto do cliente: R$  543.22\n",
            "Maior gasto do cliente: R$  687.21\n",
            "DADOS POR QUARTIL:\n",
            "1º Quartil: R$  555.04\n",
            "2º Quartil: R$  568.55\n",
            "3º Quartil: R$  593.55\n"
          ]
        }
      ]
    },
    {
      "cell_type": "markdown",
      "source": [
        "## LETRA C: Exibir na tela o valor dos:\n",
        "*   5 clientes que menos gastam\n",
        "*   5 clientes que mais gastam"
      ],
      "metadata": {
        "id": "diR4bKW-MbwA"
      }
    },
    {
      "cell_type": "code",
      "source": [
        "print('Os clientes que menos gastam: ')\n",
        "for indice, valor in enumerate(dataset[:5]):\n",
        "  print(f'{indice + 1}º Cliente: R$ {valor: .2f}')"
      ],
      "metadata": {
        "id": "Lyz_E38PMsuk",
        "colab": {
          "base_uri": "https://localhost:8080/"
        },
        "outputId": "c9439be6-8e2c-4f47-cc42-7899e5dd341f"
      },
      "execution_count": 12,
      "outputs": [
        {
          "output_type": "stream",
          "name": "stdout",
          "text": [
            "Os clientes que menos gastam: \n",
            "1º Cliente: R$  286.41\n",
            "2º Cliente: R$  336.72\n",
            "3º Cliente: R$  344.72\n",
            "4º Cliente: R$  358.84\n",
            "5º Cliente: R$  359.25\n"
          ]
        }
      ]
    },
    {
      "cell_type": "code",
      "source": [
        "print('Os clientes que mais gastam: ')\n",
        "for indice, valor in enumerate(dataset[:-6:-1]):\n",
        "  print(f'{indice + 1}º Cliente: R$ {valor: .2f}')"
      ],
      "metadata": {
        "id": "pSTcec10qQDe",
        "colab": {
          "base_uri": "https://localhost:8080/"
        },
        "outputId": "665225d0-8789-4a39-f9c5-46f8a56818b4"
      },
      "execution_count": 13,
      "outputs": [
        {
          "output_type": "stream",
          "name": "stdout",
          "text": [
            "Os clientes que mais gastam: \n",
            "1º Cliente: R$  687.21\n",
            "2º Cliente: R$  668.55\n",
            "3º Cliente: R$  667.24\n",
            "4º Cliente: R$  655.75\n",
            "5º Cliente: R$  655.29\n"
          ]
        }
      ]
    },
    {
      "cell_type": "markdown",
      "metadata": {
        "id": "3_3GdQCEEoyz"
      },
      "source": [
        "# Operações em lote sobre o Dataset:"
      ]
    },
    {
      "cell_type": "markdown",
      "metadata": {
        "id": "-eQciiXdEuN2"
      },
      "source": [
        "Consiste em aplicar operações: Arimético e lógicas sobre o conjunto de dados (dataset) em lotes (grupos)."
      ]
    },
    {
      "cell_type": "markdown",
      "metadata": {
        "id": "oLj-nSPiOSFW"
      },
      "source": [
        "## VETORIZAÇÃO"
      ]
    },
    {
      "cell_type": "markdown",
      "metadata": {
        "id": "xZFAS4ZBFGTh"
      },
      "source": [
        "Consiste em aplicar diretamente ao dataset(ou subdataset) operações aritméticas: +, -, *, /, %, // e $**$ alterando seus valores."
      ]
    },
    {
      "cell_type": "code",
      "source": [
        "print('Lista das 10 primeiras mercadorias: ')\n",
        "for indice, valor in enumerate(dataset[:10:]):\n",
        "  print(f'Mercadoria {indice + 1}: R$ {valor: .2f}')"
      ],
      "metadata": {
        "id": "qFoIVVR_tMum",
        "colab": {
          "base_uri": "https://localhost:8080/"
        },
        "outputId": "b4627fc8-3fc6-4ecd-e352-709ac2237ceb"
      },
      "execution_count": 14,
      "outputs": [
        {
          "output_type": "stream",
          "name": "stdout",
          "text": [
            "Lista das 10 primeiras mercadorias: \n",
            "Mercadoria 1: R$  286.41\n",
            "Mercadoria 2: R$  336.72\n",
            "Mercadoria 3: R$  344.72\n",
            "Mercadoria 4: R$  358.84\n",
            "Mercadoria 5: R$  359.25\n",
            "Mercadoria 6: R$  363.08\n",
            "Mercadoria 7: R$  367.14\n",
            "Mercadoria 8: R$  372.33\n",
            "Mercadoria 9: R$  378.41\n",
            "Mercadoria 10: R$  378.89\n"
          ]
        }
      ]
    },
    {
      "cell_type": "code",
      "source": [
        "len(dataset)"
      ],
      "metadata": {
        "id": "2baXQ7JTG9Uv",
        "colab": {
          "base_uri": "https://localhost:8080/"
        },
        "outputId": "9fa6f24e-6d44-4179-8db9-2385468bad6e"
      },
      "execution_count": 15,
      "outputs": [
        {
          "output_type": "execute_result",
          "data": {
            "text/plain": [
              "874"
            ]
          },
          "metadata": {},
          "execution_count": 15
        }
      ]
    },
    {
      "cell_type": "code",
      "source": [
        "print('Lista das 10 últimas mercadorias: ')\n",
        "for indice, valor in enumerate(dataset[:-10:-1]):\n",
        "  print(f'Mercadoria {indice + 1}: R$ {valor: .2f}')"
      ],
      "metadata": {
        "colab": {
          "base_uri": "https://localhost:8080/"
        },
        "id": "n7VWste2h3MV",
        "outputId": "c64dcb77-1335-4ce7-d893-22daf5c8f8cd"
      },
      "execution_count": 16,
      "outputs": [
        {
          "output_type": "stream",
          "name": "stdout",
          "text": [
            "Lista das 10 últimas mercadorias: \n",
            "Mercadoria 1: R$  687.21\n",
            "Mercadoria 2: R$  668.55\n",
            "Mercadoria 3: R$  667.24\n",
            "Mercadoria 4: R$  655.75\n",
            "Mercadoria 5: R$  655.29\n",
            "Mercadoria 6: R$  645.21\n",
            "Mercadoria 7: R$  638.19\n",
            "Mercadoria 8: R$  637.43\n",
            "Mercadoria 9: R$  635.69\n"
          ]
        }
      ]
    },
    {
      "cell_type": "markdown",
      "metadata": {
        "id": "3QkL3SyNJDQa"
      },
      "source": [
        "**EXEMPLO 1:** Dê um desconto de 3% (OFF) nas 10 mercadorias mais caras do carrinho:"
      ]
    },
    {
      "cell_type": "markdown",
      "metadata": {
        "id": "u9D7u0GYB7R9"
      },
      "source": [
        "### FORMA PYTHON DE RESOLVER PROBLEMAS EM LOTE:"
      ]
    },
    {
      "cell_type": "code",
      "metadata": {
        "id": "BgSw55mLJ1XG"
      },
      "source": [
        "dataset.sort()"
      ],
      "execution_count": 17,
      "outputs": []
    },
    {
      "cell_type": "code",
      "source": [
        "# SOLUÇÃO 1: Sobreescrita de valores\n",
        "dataset[:-11:-1] = dataset[:-11:-1] - 0.03 * dataset[:-11:-1]\n",
        "# dataset[:-11:-1] = dataset[:-11:-1] * (1 - 0.03)\n",
        "# dataset[:-11:-1] = 0.97 * dataset[:-11:-1]\n",
        "# dataset[:-11:-1] *= 0.97"
      ],
      "metadata": {
        "id": "8kT2U_Wms8CK"
      },
      "execution_count": 18,
      "outputs": []
    },
    {
      "cell_type": "code",
      "source": [
        "# SOLUÇÃO 2: Memorização dos valores\n",
        "desconto = dataset[:-11:-1] - 0.03 * dataset[:-11:-1]\n",
        "desconto"
      ],
      "metadata": {
        "colab": {
          "base_uri": "https://localhost:8080/"
        },
        "id": "iRR-r-9blVXv",
        "outputId": "88598ed2-2b32-4ad9-9606-0c798a45b9a9"
      },
      "execution_count": 19,
      "outputs": [
        {
          "output_type": "execute_result",
          "data": {
            "text/plain": [
              "array([646.59862999, 629.04115571, 627.80416124, 616.99704878,\n",
              "       616.56538795, 607.07610174, 600.47637666, 599.7613669 ,\n",
              "       598.11789602, 594.58147507])"
            ]
          },
          "metadata": {},
          "execution_count": 19
        }
      ]
    },
    {
      "cell_type": "code",
      "source": [
        "print('Lista das 10 últimas mercadorias: ')\n",
        "for indice, valor in enumerate(desconto):\n",
        "  print(f'Mercadoria {indice + 1}: R$ {valor: .2f}')"
      ],
      "metadata": {
        "id": "YKnT_Y88jbh1",
        "outputId": "62519b83-23db-4dd9-d1f0-fa819ed2df9d",
        "colab": {
          "base_uri": "https://localhost:8080/"
        }
      },
      "execution_count": 20,
      "outputs": [
        {
          "output_type": "stream",
          "name": "stdout",
          "text": [
            "Lista das 10 últimas mercadorias: \n",
            "Mercadoria 1: R$  646.60\n",
            "Mercadoria 2: R$  629.04\n",
            "Mercadoria 3: R$  627.80\n",
            "Mercadoria 4: R$  617.00\n",
            "Mercadoria 5: R$  616.57\n",
            "Mercadoria 6: R$  607.08\n",
            "Mercadoria 7: R$  600.48\n",
            "Mercadoria 8: R$  599.76\n",
            "Mercadoria 9: R$  598.12\n",
            "Mercadoria 10: R$  594.58\n"
          ]
        }
      ]
    },
    {
      "cell_type": "markdown",
      "source": [
        "**EXEMPLO 2:** Total de desconto nas mercadorias:"
      ],
      "metadata": {
        "id": "ucVtT2BTIZQ9"
      }
    },
    {
      "cell_type": "code",
      "source": [
        "len(dataset[:-11:-1])"
      ],
      "metadata": {
        "colab": {
          "base_uri": "https://localhost:8080/"
        },
        "id": "YYzTpal-mhK8",
        "outputId": "1366e11d-3004-4bc2-d964-6e21e2dcfdad"
      },
      "execution_count": 21,
      "outputs": [
        {
          "output_type": "execute_result",
          "data": {
            "text/plain": [
              "10"
            ]
          },
          "metadata": {},
          "execution_count": 21
        }
      ]
    },
    {
      "cell_type": "code",
      "source": [
        "total = sum(dataset[:-11:-1]) - sum(desconto)\n",
        "print(f'Total de desconto nas 10 mercadoria mais caras: R$ {total: .2f}')"
      ],
      "metadata": {
        "id": "d7Z8qBvWIUYo",
        "colab": {
          "base_uri": "https://localhost:8080/"
        },
        "outputId": "ae23bbdd-1cb7-4470-e5aa-e93d8aa31ea1"
      },
      "execution_count": 22,
      "outputs": [
        {
          "output_type": "stream",
          "name": "stdout",
          "text": [
            "Total de desconto nas 10 mercadoria mais caras: R$  189.80\n"
          ]
        }
      ]
    },
    {
      "cell_type": "markdown",
      "metadata": {
        "id": "i6gYapytAJWG"
      },
      "source": [
        "## INDEXACÃO BOOLEANA"
      ]
    },
    {
      "cell_type": "markdown",
      "metadata": {
        "id": "hrgrzNkqAN34"
      },
      "source": [
        "Consiste em aplicar diretamente ao dataset (ou subdataset) operações: \n",
        "\n",
        "*   Relacionais: >, >=, <, <=, == e !=  e/ ou\n",
        "\n",
        "*   Lógicos: Conjunção(and : &), Disjunção (or : |) ou Negação (not: ~)\n",
        "\n",
        "como resultado, temos um vetor (ndarray) de valores booleanos (False = 0 ou True = 1)"
      ]
    },
    {
      "cell_type": "code",
      "metadata": {
        "id": "sdZlHHYsBeNr"
      },
      "source": [
        "\"\"\"\n",
        "Exemplo 1:\n",
        "Dado um conjunto de 1000 senhas de 4 dígitos, exiba a quantidade de senhas \n",
        "que possuem como criptografia as características de serem pares e múltiplos 13.\n",
        "\"\"\"\n",
        "start = 1000\n",
        "stop  = 9999\n",
        "size = 1000\n",
        "senhas = numpy.random.randint(start, stop + 1, size)"
      ],
      "execution_count": 23,
      "outputs": []
    },
    {
      "cell_type": "code",
      "metadata": {
        "id": "rDlbOzW7Cf7F",
        "colab": {
          "base_uri": "https://localhost:8080/"
        },
        "outputId": "698ae122-77bc-4a32-b26e-183e42d914b0"
      },
      "source": [
        "senhas.sort()\n",
        "print(f'LISTA DAS {len(senhas)} SENHAS: ')\n",
        "for indice, valor in enumerate(senhas[:5]):\n",
        "  print(f'SENHA {indice + 1}: {valor}')"
      ],
      "execution_count": 24,
      "outputs": [
        {
          "output_type": "stream",
          "name": "stdout",
          "text": [
            "LISTA DAS 1000 SENHAS: \n",
            "SENHA 1: 1002\n",
            "SENHA 2: 1009\n",
            "SENHA 3: 1010\n",
            "SENHA 4: 1024\n",
            "SENHA 5: 1025\n"
          ]
        }
      ]
    },
    {
      "cell_type": "markdown",
      "metadata": {
        "id": "pAKTDp6ZLwjH"
      },
      "source": [
        "Exiba a quantidade de senhas que possuem como criptografia as características de serem pares e múltiplos 13.\n",
        "\n",
        "Como? Por Indexação Booleana"
      ]
    },
    {
      "cell_type": "code",
      "metadata": {
        "id": "DqJLr8iUDNhE",
        "colab": {
          "base_uri": "https://localhost:8080/"
        },
        "outputId": "79a25a5b-4b15-46ee-ee7e-422fb45e163a"
      },
      "source": [
        "\"\"\"\n",
        "Exiba a quantidade de senhas que possuem \n",
        "como criptografia as características de serem impares e múltiplos 13.\n",
        "Como? Por Indexação Booleana\n",
        "\"\"\"\n",
        "# ÍMPARES E MULTIPLAS DE 13\n",
        "arrayBool = (senhas % 2 != 0) & (senhas % 13 == 0)\n",
        "arrayBool[:30]"
      ],
      "execution_count": 26,
      "outputs": [
        {
          "output_type": "execute_result",
          "data": {
            "text/plain": [
              "array([False, False, False, False, False, False, False, False,  True,\n",
              "       False, False, False, False, False, False, False, False,  True,\n",
              "       False, False, False,  True, False, False, False, False, False,\n",
              "       False, False, False])"
            ]
          },
          "metadata": {},
          "execution_count": 26
        }
      ]
    },
    {
      "cell_type": "code",
      "source": [
        "type(arrayBool)"
      ],
      "metadata": {
        "id": "1pyTUQXMN9WI",
        "colab": {
          "base_uri": "https://localhost:8080/"
        },
        "outputId": "b8cd53d4-26ec-4dff-deab-624aa0229413"
      },
      "execution_count": 27,
      "outputs": [
        {
          "output_type": "execute_result",
          "data": {
            "text/plain": [
              "numpy.ndarray"
            ]
          },
          "metadata": {},
          "execution_count": 27
        }
      ]
    },
    {
      "cell_type": "code",
      "source": [
        "Q = sum(arrayBool)\n",
        "print(f'Quantidade de senhas criptografadas: {Q} ({Q/len(senhas)*100: .1f}% )')"
      ],
      "metadata": {
        "colab": {
          "base_uri": "https://localhost:8080/"
        },
        "id": "lFzHgWUesVvM",
        "outputId": "d45d8e65-7d94-4900-f869-a09cd9736653"
      },
      "execution_count": 28,
      "outputs": [
        {
          "output_type": "stream",
          "name": "stdout",
          "text": [
            "Quantidade de senhas criptografadas: 41 ( 4.1% )\n"
          ]
        }
      ]
    },
    {
      "cell_type": "markdown",
      "source": [
        "Enumerar e exibir na tela as senhas criptografadas:"
      ],
      "metadata": {
        "id": "34TCN3Mkt6sa"
      }
    },
    {
      "cell_type": "code",
      "source": [
        "cripto = senhas[arrayBool]\n",
        "cripto"
      ],
      "metadata": {
        "colab": {
          "base_uri": "https://localhost:8080/"
        },
        "id": "4MlsbgAOuAga",
        "outputId": "fbd23242-0e4c-4e57-9218-e1a5ac78f7cd"
      },
      "execution_count": 29,
      "outputs": [
        {
          "output_type": "execute_result",
          "data": {
            "text/plain": [
              "array([1053, 1131, 1183, 1521, 2067, 2301, 2327, 2353, 2431, 2613, 2717,\n",
              "       2821, 3003, 3211, 3471, 3653, 3887, 3991, 4277, 4459, 4693, 4745,\n",
              "       5109, 5161, 5941, 5967, 6695, 6903, 7059, 7137, 7293, 7319, 7371,\n",
              "       7865, 8359, 8567, 8723, 9191, 9269, 9633, 9945])"
            ]
          },
          "metadata": {},
          "execution_count": 29
        }
      ]
    },
    {
      "cell_type": "code",
      "source": [
        "print(f'RELATÓRIO: LISTA COM AS {len(cripto)} SENHAS CRIPTOGRAFADAS:')\n",
        "for indice,senha in enumerate(cripto):\n",
        "  print(f'{indice + 1}º Senha: {senha}')"
      ],
      "metadata": {
        "colab": {
          "base_uri": "https://localhost:8080/"
        },
        "id": "vlHniad1uT3N",
        "outputId": "43a285ca-f09d-4cbf-a74b-cb66be162d7c"
      },
      "execution_count": 30,
      "outputs": [
        {
          "output_type": "stream",
          "name": "stdout",
          "text": [
            "RELATÓRIO: LISTA COM AS 41 SENHAS CRIPTOGRAFADAS:\n",
            "1º Senha: 1053\n",
            "2º Senha: 1131\n",
            "3º Senha: 1183\n",
            "4º Senha: 1521\n",
            "5º Senha: 2067\n",
            "6º Senha: 2301\n",
            "7º Senha: 2327\n",
            "8º Senha: 2353\n",
            "9º Senha: 2431\n",
            "10º Senha: 2613\n",
            "11º Senha: 2717\n",
            "12º Senha: 2821\n",
            "13º Senha: 3003\n",
            "14º Senha: 3211\n",
            "15º Senha: 3471\n",
            "16º Senha: 3653\n",
            "17º Senha: 3887\n",
            "18º Senha: 3991\n",
            "19º Senha: 4277\n",
            "20º Senha: 4459\n",
            "21º Senha: 4693\n",
            "22º Senha: 4745\n",
            "23º Senha: 5109\n",
            "24º Senha: 5161\n",
            "25º Senha: 5941\n",
            "26º Senha: 5967\n",
            "27º Senha: 6695\n",
            "28º Senha: 6903\n",
            "29º Senha: 7059\n",
            "30º Senha: 7137\n",
            "31º Senha: 7293\n",
            "32º Senha: 7319\n",
            "33º Senha: 7371\n",
            "34º Senha: 7865\n",
            "35º Senha: 8359\n",
            "36º Senha: 8567\n",
            "37º Senha: 8723\n",
            "38º Senha: 9191\n",
            "39º Senha: 9269\n",
            "40º Senha: 9633\n",
            "41º Senha: 9945\n"
          ]
        }
      ]
    },
    {
      "cell_type": "code",
      "source": [
        "noCripto = senhas[~arrayBool]\n",
        "noCripto[:10]"
      ],
      "metadata": {
        "colab": {
          "base_uri": "https://localhost:8080/"
        },
        "id": "qSz_TRjVvVdf",
        "outputId": "b3e7b183-9bf6-4fe9-b823-225825f90201"
      },
      "execution_count": 31,
      "outputs": [
        {
          "output_type": "execute_result",
          "data": {
            "text/plain": [
              "array([1002, 1009, 1010, 1024, 1025, 1025, 1048, 1051, 1057, 1080])"
            ]
          },
          "metadata": {},
          "execution_count": 31
        }
      ]
    },
    {
      "cell_type": "markdown",
      "metadata": {
        "id": "GrfuYKLzJQbq"
      },
      "source": [
        "# EXERCICIO DE FIXAÇÃO:"
      ]
    },
    {
      "cell_type": "code",
      "metadata": {
        "id": "n9lsp22oJZVd"
      },
      "source": [
        "# DATASET: Filhos por casal\n",
        "\"\"\"\n",
        "DATASET: Quantidade de filhos por Casal\n",
        "\"\"\"\n",
        "L = numpy.random.randint(50, 150, 1)[0]\n",
        "quantidade = numpy.random.randint(0, 6, L)\n",
        "codigo = numpy.random.choice(numpy.arange(1000, 9999, 1), L)"
      ],
      "execution_count": 32,
      "outputs": []
    },
    {
      "cell_type": "code",
      "source": [
        "codigo[:5]"
      ],
      "metadata": {
        "id": "lVGbMygFRYyD",
        "colab": {
          "base_uri": "https://localhost:8080/"
        },
        "outputId": "596176b2-b60e-4634-f822-ab4b2a852b7c"
      },
      "execution_count": 33,
      "outputs": [
        {
          "output_type": "execute_result",
          "data": {
            "text/plain": [
              "array([2275, 5107, 1934, 3518, 7578])"
            ]
          },
          "metadata": {},
          "execution_count": 33
        }
      ]
    },
    {
      "cell_type": "code",
      "source": [
        "len(codigo)"
      ],
      "metadata": {
        "colab": {
          "base_uri": "https://localhost:8080/"
        },
        "id": "iW9fUeAon-2J",
        "outputId": "1fd8c507-7a6a-4fb3-b65d-b76e659cef4f"
      },
      "execution_count": 34,
      "outputs": [
        {
          "output_type": "execute_result",
          "data": {
            "text/plain": [
              "55"
            ]
          },
          "metadata": {},
          "execution_count": 34
        }
      ]
    },
    {
      "cell_type": "code",
      "source": [
        "quantidade[:5]"
      ],
      "metadata": {
        "id": "rdLLe_4SRAZ3",
        "colab": {
          "base_uri": "https://localhost:8080/"
        },
        "outputId": "97719c32-1bd2-4015-c3ad-009ecc31d6c1"
      },
      "execution_count": 35,
      "outputs": [
        {
          "output_type": "execute_result",
          "data": {
            "text/plain": [
              "array([5, 4, 0, 5, 3])"
            ]
          },
          "metadata": {},
          "execution_count": 35
        }
      ]
    },
    {
      "cell_type": "markdown",
      "source": [
        "## LETRA A) "
      ],
      "metadata": {
        "id": "Eh_AWta1m492"
      }
    },
    {
      "cell_type": "markdown",
      "metadata": {
        "id": "5i0qYffjJvwW"
      },
      "source": [
        "**RELATÓRIO 1:** O Total (Absoluta e Relativa (%)) de casais por filhos:\n",
        "\n",
        "EXEMPLO:\n",
        "\n",
        "10 (? %) CASAIS COM 0 FILHOS;\n",
        "\n",
        "12 (? %) CASAIS COM 1 FILHOS;\n",
        "\n",
        "...."
      ]
    },
    {
      "cell_type": "code",
      "source": [],
      "metadata": {
        "id": "gf5WmwFkTPNH",
        "outputId": "f32907fb-3b6c-458e-8e73-c64a05383070",
        "colab": {
          "base_uri": "https://localhost:8080/"
        }
      },
      "execution_count": 42,
      "outputs": [
        {
          "output_type": "execute_result",
          "data": {
            "text/plain": [
              "37"
            ]
          },
          "metadata": {},
          "execution_count": 42
        }
      ]
    },
    {
      "cell_type": "code",
      "metadata": {
        "id": "mQWqo09xKCEg"
      },
      "source": [],
      "execution_count": null,
      "outputs": []
    },
    {
      "cell_type": "markdown",
      "source": [
        "## LETRA B) "
      ],
      "metadata": {
        "id": "Ncm-Fiwcm9MJ"
      }
    },
    {
      "cell_type": "markdown",
      "metadata": {
        "id": "4c3ect6TKJ_p"
      },
      "source": [
        "**RELATÓRIO 2:**: Quantos casais possuem menos (e inclusive) que 3 filhos?\n",
        "\n",
        "Quantos casais possuem mais que 3 filhos?\n",
        "\n",
        "Exibir os resultados formatados em valores absolutos e relativos (%)."
      ]
    },
    {
      "cell_type": "code",
      "metadata": {
        "id": "jlH638HaKigE",
        "outputId": "f818b542-9e89-42c4-b22a-4491e60932fc",
        "colab": {
          "base_uri": "https://localhost:8080/"
        }
      },
      "source": [
        "tres_ou_menos = quantidade <= 3\n",
        "Q = sum(tres_ou_menos)\n",
        "percentual = Q/len(quantidade)*100\n",
        "print(f'{Q} casais ({percentual:.1f}%) possuem 3 filhos ou menos')"
      ],
      "execution_count": 57,
      "outputs": [
        {
          "output_type": "stream",
          "name": "stdout",
          "text": [
            "37 casais (67.3%) possuem 3 filhos ou menos\n"
          ]
        }
      ]
    },
    {
      "cell_type": "markdown",
      "source": [
        "## LETRA C) "
      ],
      "metadata": {
        "id": "3tpcrb8MnDTF"
      }
    },
    {
      "cell_type": "markdown",
      "metadata": {
        "id": "4at6jsuZKoAG"
      },
      "source": [
        "**RELATÓRIO 3:**: Exibir em ordem uma lista com os casais com 5 filhos?\n",
        "\n",
        "Exibir os resultados formatados em valores absolutos e relativos (%)."
      ]
    },
    {
      "cell_type": "code",
      "metadata": {
        "id": "O2Aq71MzBQZ_",
        "outputId": "8d2f125b-a4d8-41af-ea61-3988c24e5f3b",
        "colab": {
          "base_uri": "https://localhost:8080/",
          "height": 183
        }
      },
      "source": [],
      "execution_count": 65,
      "outputs": [
        {
          "output_type": "error",
          "ename": "TypeError",
          "evalue": "ignored",
          "traceback": [
            "\u001b[0;31m---------------------------------------------------------------------------\u001b[0m",
            "\u001b[0;31mTypeError\u001b[0m                                 Traceback (most recent call last)",
            "\u001b[0;32m<ipython-input-65-e4ec30f79eaf>\u001b[0m in \u001b[0;36m<cell line: 2>\u001b[0;34m()\u001b[0m\n\u001b[1;32m      1\u001b[0m \u001b[0mdata\u001b[0m \u001b[0;34m=\u001b[0m \u001b[0;34m(\u001b[0m\u001b[0;34m[\u001b[0m\u001b[0mcodigo\u001b[0m\u001b[0;34m]\u001b[0m\u001b[0;34m,\u001b[0m \u001b[0;34m[\u001b[0m\u001b[0mquantidade\u001b[0m\u001b[0;34m]\u001b[0m\u001b[0;34m)\u001b[0m\u001b[0;34m\u001b[0m\u001b[0;34m\u001b[0m\u001b[0m\n\u001b[0;32m----> 2\u001b[0;31m \u001b[0mdata\u001b[0m\u001b[0;34m[\u001b[0m\u001b[0;34m:\u001b[0m\u001b[0;36m5\u001b[0m\u001b[0;34m,\u001b[0m \u001b[0;36m1\u001b[0m\u001b[0;34m]\u001b[0m\u001b[0;34m\u001b[0m\u001b[0;34m\u001b[0m\u001b[0m\n\u001b[0m",
            "\u001b[0;31mTypeError\u001b[0m: tuple indices must be integers or slices, not tuple"
          ]
        }
      ]
    },
    {
      "cell_type": "markdown",
      "source": [
        "## LETRA D) "
      ],
      "metadata": {
        "id": "FajnDTwdnI7f"
      }
    },
    {
      "cell_type": "markdown",
      "source": [
        "**RELATÓRIO 4:** Exibir na tela uma lista formatada com o código (e a quantidade de filhos) dos casais \n",
        "\n",
        "que possuem X filhos. Onde X é um valor lido (e tratado do usuário: TRY-EXCEPT) do usuário."
      ],
      "metadata": {
        "id": "iMqz2c4uhz8x"
      }
    },
    {
      "cell_type": "code",
      "source": [],
      "metadata": {
        "id": "PReNMbd7h0LM"
      },
      "execution_count": null,
      "outputs": []
    },
    {
      "cell_type": "markdown",
      "metadata": {
        "id": "Xtmi5OcLr9Tv"
      },
      "source": [
        "# Referência Bibliográfica:"
      ]
    },
    {
      "cell_type": "markdown",
      "metadata": {
        "id": "tBOb6EVtr9u-"
      },
      "source": [
        "<div class=\"hint\">\n",
        "        <b>APRENDA+ :</b><br/>\n",
        "        &#10139; Livro Numeric Python (Travis E. Oliphant):\n",
        "        <a href=\"https://web.mit.edu/dvp/Public/numpybook.pdf\">Link<a><br/>\n",
        "        &#10139; Livro Wes McKinney:\n",
        "        <a href=\"https://www.cin.ufpe.br/~embat/Python%20for%20Data%20Analysis.pdf\">Link<a><br/>\n",
        "        &#10139; Biblioteca Numeric Python:\n",
        "        <a href=\"https://numpy.org/doc/1.17/index.html\">Link<a><br/>\n",
        "        &#10139; Conceitos de <b>Arranjo</b>:\n",
        "        <a href=\"https://pt.wikipedia.org/wiki/Arranjo_(computação)\">Link</a><br/>\n",
        "        &#10139; Site oficial <b>Python</b>:\n",
        "        <a href=\"https://www.python.org/\">Link</a><br/>\n",
        "        &#10139; Bibliotecas (Library) do <b>Python</b>:\n",
        "        <a href=\"https://docs.python.org/3.8/library/index.html?highlight=library\">Link</a><br/>\n",
        "    </div>"
      ]
    }
  ]
}