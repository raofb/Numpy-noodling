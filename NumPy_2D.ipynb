{
  "nbformat": 4,
  "nbformat_minor": 0,
  "metadata": {
    "colab": {
      "provenance": [],
      "collapsed_sections": [
        "f9ly1B47rg_O",
        "7iDL1OhdAyv9"
      ],
      "include_colab_link": true
    },
    "kernelspec": {
      "name": "python3",
      "display_name": "Python 3"
    }
  },
  "cells": [
    {
      "cell_type": "markdown",
      "metadata": {
        "id": "view-in-github",
        "colab_type": "text"
      },
      "source": [
        "<a href=\"https://colab.research.google.com/github/raofb/Numpy-noodling/blob/main/NumPy_2D.ipynb\" target=\"_parent\"><img src=\"https://colab.research.google.com/assets/colab-badge.svg\" alt=\"Open In Colab\"/></a>"
      ]
    },
    {
      "cell_type": "markdown",
      "metadata": {
        "id": "G90zxY79qIXe"
      },
      "source": [
        "<?xml version=\"1.0\" encoding=\"UTF-8\"?>\n",
        "<html>\n",
        "  <body>\n",
        "    <header></header>\n",
        "        <CENTER>\n",
        "          <img src=\"https://www.uvv.br/wp-content/themes/uvvBr/templates/assets//img/logouvv.svg\" alt=\"UVV-LOGO\" style = width=\"100px\"; height=\"100px\">\n",
        "        </CENTER>\n",
        "        <CENTER><b>Programação de Computadores - PYTHON</b></CENTER>\n",
        "        <CENTER><b>Estrutura de Dados - Numeric Python</b></CENTER><br/>"
      ]
    },
    {
      "cell_type": "markdown",
      "metadata": {
        "id": "AP7XZGwfCCZn"
      },
      "source": [
        "# Bibliotecas / funções:"
      ]
    },
    {
      "cell_type": "code",
      "metadata": {
        "id": "WiOh9IxcCGXI"
      },
      "source": [
        "import numpy"
      ],
      "execution_count": null,
      "outputs": []
    },
    {
      "cell_type": "markdown",
      "metadata": {
        "id": "yZfJjeQgqTo_"
      },
      "source": [
        "# Conceitos básicos do Numeric Python: NDARRAY\n",
        "<b>O que vamos estudar hoje:</b><br />\n",
        "    &#10139; Conceitos: <b>Vetor (Array): </b> é uma <b>Estrutura de Dados</b> usada para memorizar (memória primária) grandes volumes de dados.<br/>\n",
        "    &#10139; Características: <b>Vetor: 1D (Dimensão: Linha), Matriz (Tabela): 2D (Dimensão: Linha e Coluna) e Prisma: 3D (Dimensão: X, Y e Z - Computação Gráfica)</b><br/>\n",
        "    &#10139; Características: <b>Homogêneo (mesmo tipo: inteiro ou real)</b> e <b>Estático (Tamanho Fixo)</b><br/>\n",
        "    &#10139; Componentes de um Vetor: <b>Elementos ou termos, Indexação (Índice) e Tamanho Máximo (Fixo).</b><br/>\n",
        "    &#10139; <b>Indexação (Índice): </b>É uma variável inteira usada para acessar os termos ou elementos de um vetor (Valores).<br/>\n",
        "    &#10139; <b>Indexação (Índice Crescente): </b>Índices entre [0 ... TAMANHO - 1]<br/>\n",
        "    &#10139; <b>Indexação (Índice Decrescente): </b>Índices entre [- 1 ... -TAMANHO]<br/>\n",
        "    &#10139; <b>Indexação: </b>Posição = Índice - 1<br/>\n",
        "    &#10139; <b>Indexação: </b>Índice  = Posição + 1<br/><br/>"
      ]
    },
    {
      "cell_type": "markdown",
      "metadata": {
        "id": "wqWIea8I-vQ0"
      },
      "source": [
        "Como inserir dados na Matriz (NDARRAY):\n",
        "\n",
        "*   Ler do usuário: comando input\n",
        "\n",
        "*   Por simulação: Biblioteca random\n",
        "\n",
        "*   Por arquivos: csv, excel, json, etc..."
      ]
    },
    {
      "cell_type": "markdown",
      "metadata": {
        "id": "f9ly1B47rg_O"
      },
      "source": [
        "## Exemplo 1: Ler a nota turma: 1° Bimestre."
      ]
    },
    {
      "cell_type": "code",
      "metadata": {
        "id": "_u9M7QYSp-p5"
      },
      "source": [
        "\"\"\"\n",
        "Modelagem do problema:\n",
        "EXEMPLO DE TABELA - MATRIZ:\n",
        "-> COLUNA 0: Matrícula do Aluno (20200000 + 4 dígitos - 1000 - 9999): Por simulação \n",
        "-> COLUNA 1: Ler notas [0, 10] dos 50 Alunos:\n",
        "-> COLUNA 2: Ler notas [0, 10] dos 50 Alunos:\n",
        "\"\"\"\n",
        "LINHAS = 50\n",
        "COLUNAS = 3\n",
        "dataset = numpy.zeros((LINHAS, COLUNAS))"
      ],
      "execution_count": null,
      "outputs": []
    },
    {
      "cell_type": "code",
      "source": [
        "dataset"
      ],
      "metadata": {
        "id": "VUxkZA6whJt8"
      },
      "execution_count": null,
      "outputs": []
    },
    {
      "cell_type": "code",
      "metadata": {
        "id": "ptMsBf9W2gME"
      },
      "source": [
        "# Preenchendo os dados da tabela: matriz - Coluna 0\n",
        "dataset[:, 0] = 20230000 + numpy.random.choice(numpy.arange(1000, 10000), LINHAS, replace=False) # Vetorização\n",
        "dataset[:, 1] = numpy.random.normal(7.0, 1.3, LINHAS)\n",
        "dataset[:, 2] = numpy.random.normal(5.0, 1.8, LINHAS)"
      ],
      "execution_count": null,
      "outputs": []
    },
    {
      "cell_type": "code",
      "metadata": {
        "id": "ei13S0TvFyVn"
      },
      "source": [
        "# FORMATAÇÃO EM NOTAÇÃO CIENTÍFICA\n",
        "dataset"
      ],
      "execution_count": null,
      "outputs": []
    },
    {
      "cell_type": "markdown",
      "metadata": {
        "id": "7iDL1OhdAyv9"
      },
      "source": [
        "# Exemplo 2: Exibir os dados da turma"
      ]
    },
    {
      "cell_type": "code",
      "source": [
        "print(f'RELATÓRIO COM OS DADOS DOS {len(dataset)} ALUNOS:')\n",
        "for indice, aluno in enumerate(dataset):\n",
        "  print(f'Dados do aluno {indice + 1}: ')\n",
        "  print(f'Matrícula. : {aluno[0]: .0f}')\n",
        "  print(f'1º Bimestre: {aluno[1]: .1f}')\n",
        "  print(f'2º Bimestre: {aluno[2]: .1f}\\n')"
      ],
      "metadata": {
        "colab": {
          "base_uri": "https://localhost:8080/"
        },
        "id": "8Zrez_ktitqo",
        "outputId": "03ede043-e340-4cb6-a72d-a67629508c51"
      },
      "execution_count": null,
      "outputs": [
        {
          "output_type": "stream",
          "name": "stdout",
          "text": [
            "RELATÓRIO COM OS DADOS DOS 50 ALUNOS:\n",
            "Dados do aluno 1: \n",
            "Matrícula. :  20231646\n",
            "1º Bimestre:  5.5\n",
            "2º Bimestre:  4.5\n",
            "\n",
            "Dados do aluno 2: \n",
            "Matrícula. :  20239431\n",
            "1º Bimestre:  6.2\n",
            "2º Bimestre:  6.4\n",
            "\n",
            "Dados do aluno 3: \n",
            "Matrícula. :  20232868\n",
            "1º Bimestre:  8.0\n",
            "2º Bimestre:  5.4\n",
            "\n",
            "Dados do aluno 4: \n",
            "Matrícula. :  20239645\n",
            "1º Bimestre:  5.8\n",
            "2º Bimestre:  4.4\n",
            "\n",
            "Dados do aluno 5: \n",
            "Matrícula. :  20237663\n",
            "1º Bimestre:  6.8\n",
            "2º Bimestre:  3.2\n",
            "\n",
            "Dados do aluno 6: \n",
            "Matrícula. :  20239032\n",
            "1º Bimestre:  5.8\n",
            "2º Bimestre:  2.0\n",
            "\n",
            "Dados do aluno 7: \n",
            "Matrícula. :  20239703\n",
            "1º Bimestre:  6.9\n",
            "2º Bimestre:  4.6\n",
            "\n",
            "Dados do aluno 8: \n",
            "Matrícula. :  20239253\n",
            "1º Bimestre:  7.6\n",
            "2º Bimestre:  6.7\n",
            "\n",
            "Dados do aluno 9: \n",
            "Matrícula. :  20239411\n",
            "1º Bimestre:  7.5\n",
            "2º Bimestre:  4.8\n",
            "\n",
            "Dados do aluno 10: \n",
            "Matrícula. :  20231413\n",
            "1º Bimestre:  5.5\n",
            "2º Bimestre:  6.8\n",
            "\n",
            "Dados do aluno 11: \n",
            "Matrícula. :  20235234\n",
            "1º Bimestre:  6.8\n",
            "2º Bimestre:  2.5\n",
            "\n",
            "Dados do aluno 12: \n",
            "Matrícula. :  20233818\n",
            "1º Bimestre:  7.2\n",
            "2º Bimestre:  8.8\n",
            "\n",
            "Dados do aluno 13: \n",
            "Matrícula. :  20237795\n",
            "1º Bimestre:  8.0\n",
            "2º Bimestre:  3.1\n",
            "\n",
            "Dados do aluno 14: \n",
            "Matrícula. :  20232462\n",
            "1º Bimestre:  8.1\n",
            "2º Bimestre:  2.6\n",
            "\n",
            "Dados do aluno 15: \n",
            "Matrícula. :  20233252\n",
            "1º Bimestre:  5.1\n",
            "2º Bimestre:  6.5\n",
            "\n",
            "Dados do aluno 16: \n",
            "Matrícula. :  20231019\n",
            "1º Bimestre:  6.9\n",
            "2º Bimestre:  4.0\n",
            "\n",
            "Dados do aluno 17: \n",
            "Matrícula. :  20239357\n",
            "1º Bimestre:  6.9\n",
            "2º Bimestre:  4.8\n",
            "\n",
            "Dados do aluno 18: \n",
            "Matrícula. :  20239537\n",
            "1º Bimestre:  6.5\n",
            "2º Bimestre:  2.3\n",
            "\n",
            "Dados do aluno 19: \n",
            "Matrícula. :  20237666\n",
            "1º Bimestre:  9.0\n",
            "2º Bimestre:  6.9\n",
            "\n",
            "Dados do aluno 20: \n",
            "Matrícula. :  20231255\n",
            "1º Bimestre:  7.7\n",
            "2º Bimestre:  6.7\n",
            "\n",
            "Dados do aluno 21: \n",
            "Matrícula. :  20237081\n",
            "1º Bimestre:  5.0\n",
            "2º Bimestre:  6.0\n",
            "\n",
            "Dados do aluno 22: \n",
            "Matrícula. :  20238770\n",
            "1º Bimestre:  7.2\n",
            "2º Bimestre:  6.4\n",
            "\n",
            "Dados do aluno 23: \n",
            "Matrícula. :  20232320\n",
            "1º Bimestre:  7.0\n",
            "2º Bimestre:  5.0\n",
            "\n",
            "Dados do aluno 24: \n",
            "Matrícula. :  20237955\n",
            "1º Bimestre:  11.5\n",
            "2º Bimestre:  4.7\n",
            "\n",
            "Dados do aluno 25: \n",
            "Matrícula. :  20233676\n",
            "1º Bimestre:  6.1\n",
            "2º Bimestre:  3.2\n",
            "\n",
            "Dados do aluno 26: \n",
            "Matrícula. :  20236404\n",
            "1º Bimestre:  5.9\n",
            "2º Bimestre:  7.9\n",
            "\n",
            "Dados do aluno 27: \n",
            "Matrícula. :  20237971\n",
            "1º Bimestre:  7.4\n",
            "2º Bimestre:  4.9\n",
            "\n",
            "Dados do aluno 28: \n",
            "Matrícula. :  20234033\n",
            "1º Bimestre:  5.2\n",
            "2º Bimestre:  6.8\n",
            "\n",
            "Dados do aluno 29: \n",
            "Matrícula. :  20232914\n",
            "1º Bimestre:  9.5\n",
            "2º Bimestre:  3.5\n",
            "\n",
            "Dados do aluno 30: \n",
            "Matrícula. :  20233193\n",
            "1º Bimestre:  6.8\n",
            "2º Bimestre:  4.4\n",
            "\n",
            "Dados do aluno 31: \n",
            "Matrícula. :  20231517\n",
            "1º Bimestre:  6.3\n",
            "2º Bimestre:  6.2\n",
            "\n",
            "Dados do aluno 32: \n",
            "Matrícula. :  20234258\n",
            "1º Bimestre:  5.9\n",
            "2º Bimestre:  3.2\n",
            "\n",
            "Dados do aluno 33: \n",
            "Matrícula. :  20235550\n",
            "1º Bimestre:  6.3\n",
            "2º Bimestre:  3.4\n",
            "\n",
            "Dados do aluno 34: \n",
            "Matrícula. :  20234367\n",
            "1º Bimestre:  6.3\n",
            "2º Bimestre:  8.2\n",
            "\n",
            "Dados do aluno 35: \n",
            "Matrícula. :  20232380\n",
            "1º Bimestre:  9.1\n",
            "2º Bimestre:  9.0\n",
            "\n",
            "Dados do aluno 36: \n",
            "Matrícula. :  20235751\n",
            "1º Bimestre:  6.8\n",
            "2º Bimestre:  3.9\n",
            "\n",
            "Dados do aluno 37: \n",
            "Matrícula. :  20237547\n",
            "1º Bimestre:  7.0\n",
            "2º Bimestre:  4.0\n",
            "\n",
            "Dados do aluno 38: \n",
            "Matrícula. :  20239152\n",
            "1º Bimestre:  6.2\n",
            "2º Bimestre:  4.2\n",
            "\n",
            "Dados do aluno 39: \n",
            "Matrícula. :  20232993\n",
            "1º Bimestre:  6.7\n",
            "2º Bimestre:  6.4\n",
            "\n",
            "Dados do aluno 40: \n",
            "Matrícula. :  20235289\n",
            "1º Bimestre:  9.8\n",
            "2º Bimestre:  7.3\n",
            "\n",
            "Dados do aluno 41: \n",
            "Matrícula. :  20233786\n",
            "1º Bimestre:  7.5\n",
            "2º Bimestre:  6.2\n",
            "\n",
            "Dados do aluno 42: \n",
            "Matrícula. :  20232558\n",
            "1º Bimestre:  7.6\n",
            "2º Bimestre:  6.5\n",
            "\n",
            "Dados do aluno 43: \n",
            "Matrícula. :  20232838\n",
            "1º Bimestre:  4.7\n",
            "2º Bimestre:  2.7\n",
            "\n",
            "Dados do aluno 44: \n",
            "Matrícula. :  20236858\n",
            "1º Bimestre:  5.5\n",
            "2º Bimestre:  6.1\n",
            "\n",
            "Dados do aluno 45: \n",
            "Matrícula. :  20237932\n",
            "1º Bimestre:  5.0\n",
            "2º Bimestre:  7.7\n",
            "\n",
            "Dados do aluno 46: \n",
            "Matrícula. :  20238419\n",
            "1º Bimestre:  6.9\n",
            "2º Bimestre:  3.7\n",
            "\n",
            "Dados do aluno 47: \n",
            "Matrícula. :  20239619\n",
            "1º Bimestre:  6.5\n",
            "2º Bimestre:  3.3\n",
            "\n",
            "Dados do aluno 48: \n",
            "Matrícula. :  20231262\n",
            "1º Bimestre:  7.5\n",
            "2º Bimestre:  5.0\n",
            "\n",
            "Dados do aluno 49: \n",
            "Matrícula. :  20236032\n",
            "1º Bimestre:  8.0\n",
            "2º Bimestre:  2.9\n",
            "\n",
            "Dados do aluno 50: \n",
            "Matrícula. :  20238910\n",
            "1º Bimestre:  7.5\n",
            "2º Bimestre:  4.4\n",
            "\n"
          ]
        }
      ]
    },
    {
      "cell_type": "markdown",
      "metadata": {
        "id": "j7PDdc6dKOus"
      },
      "source": [
        "# comando ENUMERATE com Matriz (2D):"
      ]
    },
    {
      "cell_type": "code",
      "source": [
        "# SHAPE = (LINHA, COLUNA)\n",
        "# SHAPE = ([0],[1])\n",
        "shape = dataset.shape\n",
        "shape"
      ],
      "metadata": {
        "id": "b6tidrhrMwVg",
        "colab": {
          "base_uri": "https://localhost:8080/"
        },
        "outputId": "0468e221-c657-4b9f-d059-67ae894de287"
      },
      "execution_count": null,
      "outputs": [
        {
          "output_type": "execute_result",
          "data": {
            "text/plain": [
              "(50, 3)"
            ]
          },
          "metadata": {},
          "execution_count": 11
        }
      ]
    },
    {
      "cell_type": "code",
      "source": [
        "type(shape)"
      ],
      "metadata": {
        "colab": {
          "base_uri": "https://localhost:8080/"
        },
        "id": "ryj-A15wlriQ",
        "outputId": "177bf62e-ec19-451c-ecaf-38668fbf0d7f"
      },
      "execution_count": null,
      "outputs": [
        {
          "output_type": "execute_result",
          "data": {
            "text/plain": [
              "tuple"
            ]
          },
          "metadata": {},
          "execution_count": 12
        }
      ]
    },
    {
      "cell_type": "code",
      "source": [
        "# SHAPE = (LINHA, COLUNA)\n",
        "# SHAPE = ([0],[1])\n",
        "dataset.shape[0]"
      ],
      "metadata": {
        "id": "nCFgyFfu1DxT",
        "colab": {
          "base_uri": "https://localhost:8080/"
        },
        "outputId": "be9de23c-ec2b-4287-9498-e80f499935fe"
      },
      "execution_count": null,
      "outputs": [
        {
          "output_type": "execute_result",
          "data": {
            "text/plain": [
              "50"
            ]
          },
          "metadata": {},
          "execution_count": 14
        }
      ]
    },
    {
      "cell_type": "code",
      "source": [
        "# SHAPE = (LINHA, COLUNA)\n",
        "# SHAPE = ([0],[1])\n",
        "dataset.shape[1]"
      ],
      "metadata": {
        "colab": {
          "base_uri": "https://localhost:8080/"
        },
        "id": "5Mj1G8Jh1MeU",
        "outputId": "9a2569f2-0489-47d9-c6bc-45bd2c9272b4"
      },
      "execution_count": null,
      "outputs": [
        {
          "output_type": "execute_result",
          "data": {
            "text/plain": [
              "3"
            ]
          },
          "metadata": {},
          "execution_count": 15
        }
      ]
    },
    {
      "cell_type": "code",
      "source": [
        "# LEN: LINHAS\n",
        "len(dataset)"
      ],
      "metadata": {
        "id": "aT7GjpRbNaUa",
        "colab": {
          "base_uri": "https://localhost:8080/"
        },
        "outputId": "f4cf2116-11d3-4d10-a847-da480ae113f5"
      },
      "execution_count": null,
      "outputs": [
        {
          "output_type": "execute_result",
          "data": {
            "text/plain": [
              "50"
            ]
          },
          "metadata": {},
          "execution_count": 16
        }
      ]
    },
    {
      "cell_type": "markdown",
      "metadata": {
        "id": "uBSmIp9UKWUA"
      },
      "source": [
        "# comando ENUMERATE com Vetor (2D):"
      ]
    },
    {
      "cell_type": "code",
      "metadata": {
        "id": "ss6IPq4RFjLI",
        "colab": {
          "base_uri": "https://localhost:8080/"
        },
        "outputId": "87c88e74-4026-4cd3-ca61-73db1795f207"
      },
      "source": [
        "# COMANDO \":\" É PARA ACESSAR TODOS OS VALORES\n",
        "# ACESSAR TODAS AS MATRÍCULAS\n",
        "dataset[:,0]"
      ],
      "execution_count": null,
      "outputs": [
        {
          "output_type": "execute_result",
          "data": {
            "text/plain": [
              "array([20231646., 20239431., 20232868., 20239645., 20237663., 20239032.,\n",
              "       20239703., 20239253., 20239411., 20231413., 20235234., 20233818.,\n",
              "       20237795., 20232462., 20233252., 20231019., 20239357., 20239537.,\n",
              "       20237666., 20231255., 20237081., 20238770., 20232320., 20237955.,\n",
              "       20233676., 20236404., 20237971., 20234033., 20232914., 20233193.,\n",
              "       20231517., 20234258., 20235550., 20234367., 20232380., 20235751.,\n",
              "       20237547., 20239152., 20232993., 20235289., 20233786., 20232558.,\n",
              "       20232838., 20236858., 20237932., 20238419., 20239619., 20231262.,\n",
              "       20236032., 20238910.])"
            ]
          },
          "metadata": {},
          "execution_count": 17
        }
      ]
    },
    {
      "cell_type": "code",
      "source": [
        "matricula = dataset[:,0]\n",
        "matricula"
      ],
      "metadata": {
        "colab": {
          "base_uri": "https://localhost:8080/"
        },
        "id": "PZKY615tm_U8",
        "outputId": "34f59c37-0a0a-4bfa-fb61-bc650b23dbd7"
      },
      "execution_count": null,
      "outputs": [
        {
          "output_type": "execute_result",
          "data": {
            "text/plain": [
              "array([20231646., 20239431., 20232868., 20239645., 20237663., 20239032.,\n",
              "       20239703., 20239253., 20239411., 20231413., 20235234., 20233818.,\n",
              "       20237795., 20232462., 20233252., 20231019., 20239357., 20239537.,\n",
              "       20237666., 20231255., 20237081., 20238770., 20232320., 20237955.,\n",
              "       20233676., 20236404., 20237971., 20234033., 20232914., 20233193.,\n",
              "       20231517., 20234258., 20235550., 20234367., 20232380., 20235751.,\n",
              "       20237547., 20239152., 20232993., 20235289., 20233786., 20232558.,\n",
              "       20232838., 20236858., 20237932., 20238419., 20239619., 20231262.,\n",
              "       20236032., 20238910.])"
            ]
          },
          "metadata": {},
          "execution_count": 18
        }
      ]
    },
    {
      "cell_type": "code",
      "source": [
        "type(matricula)"
      ],
      "metadata": {
        "colab": {
          "base_uri": "https://localhost:8080/"
        },
        "id": "REx1CuSfnIuX",
        "outputId": "376f4ba1-264a-40d5-f439-781ab1d94ea9"
      },
      "execution_count": null,
      "outputs": [
        {
          "output_type": "execute_result",
          "data": {
            "text/plain": [
              "numpy.ndarray"
            ]
          },
          "metadata": {},
          "execution_count": 19
        }
      ]
    },
    {
      "cell_type": "code",
      "source": [
        "bimestre1 = dataset[:,1]\n",
        "bimestre1"
      ],
      "metadata": {
        "colab": {
          "base_uri": "https://localhost:8080/"
        },
        "id": "o_vR4OzwnSKJ",
        "outputId": "ca1b6185-6edc-4c2f-aa03-2cbbbc7aaf79"
      },
      "execution_count": null,
      "outputs": [
        {
          "output_type": "execute_result",
          "data": {
            "text/plain": [
              "array([ 5.49099212,  6.24688349,  8.04747486,  5.84858681,  6.84051369,\n",
              "        5.82338592,  6.88261176,  7.64862287,  7.5458201 ,  5.54325566,\n",
              "        6.75669562,  7.17536961,  8.00629028,  8.13441881,  5.14605559,\n",
              "        6.94971976,  6.92621307,  6.53986474,  9.00557773,  7.6958207 ,\n",
              "        4.95388673,  7.18385865,  6.9508558 , 11.46032473,  6.13811918,\n",
              "        5.9309913 ,  7.44902263,  5.15494856,  9.47797193,  6.78725366,\n",
              "        6.32912986,  5.87110453,  6.30808067,  6.33656362,  9.12209249,\n",
              "        6.77809363,  7.01550535,  6.23261914,  6.67724191,  9.76592143,\n",
              "        7.45589269,  7.55618666,  4.71050962,  5.49076846,  4.95539273,\n",
              "        6.91453294,  6.49003817,  7.51257188,  7.99045764,  7.51927463])"
            ]
          },
          "metadata": {},
          "execution_count": 20
        }
      ]
    },
    {
      "cell_type": "markdown",
      "metadata": {
        "id": "Ps7CnX9sEqCh"
      },
      "source": [
        "## Exemplo 3: Métodos do Vetor: Transformar os Dados em Informação. "
      ]
    },
    {
      "cell_type": "code",
      "metadata": {
        "id": "jPfEiqUFEzcS"
      },
      "source": [
        "\"\"\"\n",
        "Modelagem do problema:\n",
        "EXEMPLO DE TABELA - MATRIZ:\n",
        "-> COLUNA 0: Matrícula do Aluno (20200000 + 4 dígitos - 1000 - 9999): Por simulação \n",
        "-> COLUNA 1: Ler notas [0, 10] dos 50 Alunos:\n",
        "-> COLUNA 2: Ler notas [0, 10] dos 50 Alunos:\n",
        "\"\"\"\n",
        "dataset"
      ],
      "execution_count": null,
      "outputs": []
    },
    {
      "cell_type": "markdown",
      "source": [
        "## Exibir a média individual dos alunos da turma"
      ],
      "metadata": {
        "id": "0-g4uqBzS2JA"
      }
    },
    {
      "cell_type": "code",
      "source": [
        "print(f'RELATÓRIO: Média semestral dos {dataset.shape[0]} alunos: ')\n",
        "for indice, aluno in enumerate(dataset):\n",
        "  print(f'Dados do Aluno {indice + 1}:')\n",
        "  print(f'Matrícula: {aluno[0]: .0f}')\n",
        "  print(f'Média.   : {(aluno[1] + aluno[2]) / 2: .1f}\\n')"
      ],
      "metadata": {
        "id": "OmEhqlabS8nu"
      },
      "execution_count": null,
      "outputs": []
    },
    {
      "cell_type": "markdown",
      "metadata": {
        "id": "s4ARt1h46Kg5"
      },
      "source": [
        "# Fatiamento (slicing):"
      ]
    },
    {
      "cell_type": "markdown",
      "metadata": {
        "id": "4JykagxQ6awp"
      },
      "source": [
        "**Criar subconjuntos do conjunto principal.**"
      ]
    },
    {
      "cell_type": "code",
      "metadata": {
        "id": "hArjybPC6uTy",
        "colab": {
          "base_uri": "https://localhost:8080/"
        },
        "outputId": "4e30a413-06b3-42ee-c916-af5c0eb04d97"
      },
      "source": [
        "# dataset[LINHAS, COLUNAS]\n",
        "len(dataset[::,::])"
      ],
      "execution_count": null,
      "outputs": [
        {
          "output_type": "execute_result",
          "data": {
            "text/plain": [
              "50"
            ]
          },
          "metadata": {},
          "execution_count": 25
        }
      ]
    },
    {
      "cell_type": "markdown",
      "metadata": {
        "id": "YFr9TpsY8bBT"
      },
      "source": [
        "## Fatiamento crescente:"
      ]
    },
    {
      "cell_type": "code",
      "metadata": {
        "id": "t6LnPoYX8hXi",
        "colab": {
          "base_uri": "https://localhost:8080/"
        },
        "outputId": "1ca1539b-b9e1-40ac-de26-277c9a3667ac"
      },
      "source": [
        "\"\"\"\n",
        "subdataset = dataset[start:stop:step, start:stop:step]\n",
        "por default:\n",
        "subdataset = dataset[0:MAX + 1:1]\n",
        "start: 0\n",
        "stop : MAX (não incluso)\n",
        "step : 1\n",
        "\"\"\"\n",
        "dataset[:,2].shape"
      ],
      "execution_count": null,
      "outputs": [
        {
          "output_type": "execute_result",
          "data": {
            "text/plain": [
              "(50,)"
            ]
          },
          "metadata": {},
          "execution_count": 26
        }
      ]
    },
    {
      "cell_type": "code",
      "metadata": {
        "id": "rPURvU8q9cl9",
        "colab": {
          "base_uri": "https://localhost:8080/"
        },
        "outputId": "9abf03b5-dfd8-4d10-e242-46264b7517f4"
      },
      "source": [
        "dataset[:20,:2].shape"
      ],
      "execution_count": null,
      "outputs": [
        {
          "output_type": "execute_result",
          "data": {
            "text/plain": [
              "(20, 2)"
            ]
          },
          "metadata": {},
          "execution_count": 27
        }
      ]
    },
    {
      "cell_type": "code",
      "source": [
        "dataset[30:,1:].shape"
      ],
      "metadata": {
        "colab": {
          "base_uri": "https://localhost:8080/"
        },
        "id": "9X6P-xe5rhca",
        "outputId": "2b0584bf-8b6f-4527-e3db-43df9633ce88"
      },
      "execution_count": null,
      "outputs": [
        {
          "output_type": "execute_result",
          "data": {
            "text/plain": [
              "(20, 2)"
            ]
          },
          "metadata": {},
          "execution_count": 28
        }
      ]
    },
    {
      "cell_type": "markdown",
      "metadata": {
        "id": "3_3GdQCEEoyz"
      },
      "source": [
        "# Operações em lote sobre o Dataset:"
      ]
    },
    {
      "cell_type": "markdown",
      "metadata": {
        "id": "-eQciiXdEuN2"
      },
      "source": [
        "Consiste em aplicar operações: Arimético e lógicas sobre o conjunto de dados (dataset) em lotes (grupos)."
      ]
    },
    {
      "cell_type": "markdown",
      "metadata": {
        "id": "FBehLRpcFBxn"
      },
      "source": [
        "# Operações em lote:"
      ]
    },
    {
      "cell_type": "markdown",
      "metadata": {
        "id": "oLj-nSPiOSFW"
      },
      "source": [
        "## VETORIZAÇÃO"
      ]
    },
    {
      "cell_type": "markdown",
      "metadata": {
        "id": "xZFAS4ZBFGTh"
      },
      "source": [
        "Consiste em aplicar diretamente ao dataset(ou subdataset) operações aritméticas: +, -, *, /, %, // e $**$ alterando seus valores."
      ]
    },
    {
      "cell_type": "code",
      "source": [
        "import numpy"
      ],
      "metadata": {
        "id": "6G6jiY7PNP5w"
      },
      "execution_count": 152,
      "outputs": []
    },
    {
      "cell_type": "code",
      "metadata": {
        "id": "vl36rEEiGHNH",
        "colab": {
          "base_uri": "https://localhost:8080/"
        },
        "outputId": "752a82bb-b4b6-4b37-e169-572ef45c06f5"
      },
      "source": [
        "\"\"\"\n",
        "Modelagem do problema: ACADEMIA\n",
        "EXEMPLO DE TABELA - MATRIZ:\n",
        "-> COLUNA 0 - Matrícula do Aluno (20200000 + 4 dígitos - 1000 - 9999): Por simulação \n",
        "-> COLUNA 1 - Massa: Média = 80.525 Quilos, Desvio: 15.500 Mts\n",
        "-> COLUNA 2 - Altura: Média = 1.80 Mts, Desvio: 0.15 Mts\n",
        "-> COLUNA 3 - IMC: Massa / (Altura ** 2)\n",
        "-> COLUNA 4 - Classificação (conforme tabela)\n",
        "\"\"\"\n",
        "LINHAS = numpy.random.randint(100, 501, 1)[0]          # Linhas: Alunos \n",
        "COLUNAS = 5           # Colunas: Variáveis \n",
        "dataset = numpy.zeros((LINHAS, COLUNAS))\n",
        "dataset.shape"
      ],
      "execution_count": 153,
      "outputs": [
        {
          "output_type": "execute_result",
          "data": {
            "text/plain": [
              "(347, 5)"
            ]
          },
          "metadata": {},
          "execution_count": 153
        }
      ]
    },
    {
      "cell_type": "code",
      "metadata": {
        "id": "_fTtTkXTOibR"
      },
      "source": [
        "dataset[:, 0] = numpy.random.choice(numpy.arange(1000, 10000), LINHAS, replace=False) # Vetorização\n",
        "dataset[:, 1] = numpy.random.normal(80.525, 15.500, LINHAS)\n",
        "dataset[:, 2] = numpy.random.normal(1.80, 0.15, LINHAS)"
      ],
      "execution_count": 154,
      "outputs": []
    },
    {
      "cell_type": "code",
      "source": [
        "print('DADOS: Os 5 primeiros alunos do Turma:')\n",
        "for indice, aluno in enumerate(dataset[:5,:3]):\n",
        "  print(f'Dados do Aluno {indice + 1}:')\n",
        "  print(f'Matrícula: {aluno[0]: .0f}')\n",
        "  print(f'Massa (Quilogramas): {aluno[1]: .3f}')\n",
        "  print(f'Altura     (Metros): {aluno[2]: .2f}\\n')"
      ],
      "metadata": {
        "colab": {
          "base_uri": "https://localhost:8080/"
        },
        "id": "gJMjSggStgAO",
        "outputId": "d5657e04-8b38-48d2-b831-5d56a1e4f109"
      },
      "execution_count": 155,
      "outputs": [
        {
          "output_type": "stream",
          "name": "stdout",
          "text": [
            "DADOS: Os 5 primeiros alunos do Turma:\n",
            "Dados do Aluno 1:\n",
            "Matrícula:  8449\n",
            "Massa (Quilogramas):  79.929\n",
            "Altura     (Metros):  1.52\n",
            "\n",
            "Dados do Aluno 2:\n",
            "Matrícula:  8483\n",
            "Massa (Quilogramas):  87.500\n",
            "Altura     (Metros):  1.86\n",
            "\n",
            "Dados do Aluno 3:\n",
            "Matrícula:  5031\n",
            "Massa (Quilogramas):  70.768\n",
            "Altura     (Metros):  2.00\n",
            "\n",
            "Dados do Aluno 4:\n",
            "Matrícula:  5791\n",
            "Massa (Quilogramas):  67.544\n",
            "Altura     (Metros):  1.70\n",
            "\n",
            "Dados do Aluno 5:\n",
            "Matrícula:  1480\n",
            "Massa (Quilogramas):  79.449\n",
            "Altura     (Metros):  1.79\n",
            "\n"
          ]
        }
      ]
    },
    {
      "cell_type": "markdown",
      "metadata": {
        "id": "p0QnmqBPQUiI"
      },
      "source": [
        "### Tratamento de um valor Mínimo (MIN) ou Máximo (MAX), por exemplo:"
      ]
    },
    {
      "cell_type": "code",
      "source": [
        "print(f'Aluno mais baixo: {min(dataset[:,2]): .2f} metros')\n",
        "print(f'Aluno mais baixo: {numpy.min(dataset[:,2]): .2f} metros')\n",
        "print(f'Aluno mais baixo: {dataset[:,2].min(): .2f} metros')"
      ],
      "metadata": {
        "id": "JDFb4c_0X6Rh",
        "colab": {
          "base_uri": "https://localhost:8080/"
        },
        "outputId": "281a4da9-4142-4efd-81ab-afc954193d4d"
      },
      "execution_count": 156,
      "outputs": [
        {
          "output_type": "stream",
          "name": "stdout",
          "text": [
            "Aluno mais baixo:  1.41 metros\n",
            "Aluno mais baixo:  1.41 metros\n",
            "Aluno mais baixo:  1.41 metros\n"
          ]
        }
      ]
    },
    {
      "cell_type": "code",
      "source": [
        "print(f'Aluno mais alto: {max(dataset[:,2]): .2f} metros')\n",
        "print(f'Aluno mais alto: {numpy.max(dataset[:,2]): .2f} metros')\n",
        "print(f'Aluno mais alto: {dataset[:,2].max(): .2f} metros')"
      ],
      "metadata": {
        "colab": {
          "base_uri": "https://localhost:8080/"
        },
        "id": "wYDKg3DnZIaG",
        "outputId": "c133dd44-3b6c-4d2a-f869-e773b1653720"
      },
      "execution_count": 157,
      "outputs": [
        {
          "output_type": "stream",
          "name": "stdout",
          "text": [
            "Aluno mais alto:  2.17 metros\n",
            "Aluno mais alto:  2.17 metros\n",
            "Aluno mais alto:  2.17 metros\n"
          ]
        }
      ]
    },
    {
      "cell_type": "markdown",
      "metadata": {
        "id": "vGS59uOvKZcg"
      },
      "source": [
        "###Exibir uma Lista de valores: **comando ENUMERATE (contar um por um)**"
      ]
    },
    {
      "cell_type": "markdown",
      "metadata": {
        "id": "3QkL3SyNJDQa"
      },
      "source": [
        "**EXEMPLO 1:** Exibir os 5 primeiros alunos:"
      ]
    },
    {
      "cell_type": "code",
      "metadata": {
        "id": "BgSw55mLJ1XG",
        "colab": {
          "base_uri": "https://localhost:8080/"
        },
        "outputId": "1802e36b-2a30-4bd1-d922-2e8bd1e3d245"
      },
      "source": [
        "print('Exibir os 5 primeiros alunos:')\n",
        "for indice, aluno in enumerate(dataset[:5,:3]):\n",
        "  print(f'Dados do Aluno {indice + 1}')\n",
        "  print(f'Matrícula :{aluno[0]: .0f}')\n",
        "  print(f'Massa     :{aluno[1]: .3f} quilogramas')\n",
        "  print(f'Altura    :{aluno[2]: .2f} metros\\n')"
      ],
      "execution_count": 158,
      "outputs": [
        {
          "output_type": "stream",
          "name": "stdout",
          "text": [
            "Exibir os 5 primeiros alunos:\n",
            "Dados do Aluno 1\n",
            "Matrícula : 8449\n",
            "Massa     : 79.929 quilogramas\n",
            "Altura    : 1.52 metros\n",
            "\n",
            "Dados do Aluno 2\n",
            "Matrícula : 8483\n",
            "Massa     : 87.500 quilogramas\n",
            "Altura    : 1.86 metros\n",
            "\n",
            "Dados do Aluno 3\n",
            "Matrícula : 5031\n",
            "Massa     : 70.768 quilogramas\n",
            "Altura    : 2.00 metros\n",
            "\n",
            "Dados do Aluno 4\n",
            "Matrícula : 5791\n",
            "Massa     : 67.544 quilogramas\n",
            "Altura    : 1.70 metros\n",
            "\n",
            "Dados do Aluno 5\n",
            "Matrícula : 1480\n",
            "Massa     : 79.449 quilogramas\n",
            "Altura    : 1.79 metros\n",
            "\n"
          ]
        }
      ]
    },
    {
      "cell_type": "markdown",
      "metadata": {
        "id": "CcKV9tYwSmB5"
      },
      "source": [
        "### VETORIZAÇÃO (2D)"
      ]
    },
    {
      "cell_type": "markdown",
      "metadata": {
        "id": "eWiTbMfdSq3s"
      },
      "source": [
        "Consiste em aplicar diretamente ao dataset(ou subdataset) operações aritméticas: +, -, *, /, %, // e $**$ alterando seus valores."
      ]
    },
    {
      "cell_type": "code",
      "metadata": {
        "id": "Or_xAhkZSwAn"
      },
      "source": [
        "# Criar a coluna 3: IMC = Massa / (Altura ** 2)\n",
        "dataset[:,3] = dataset[:,1] / (dataset[:,2] ** 2)"
      ],
      "execution_count": 159,
      "outputs": []
    },
    {
      "cell_type": "code",
      "metadata": {
        "id": "BHVq2PkrTn3h",
        "colab": {
          "base_uri": "https://localhost:8080/"
        },
        "outputId": "c1dd1be6-ced1-4f6d-8471-d315803f6349"
      },
      "source": [
        "print('Exibir os 5 primeiros alunos:')\n",
        "for indice, aluno in enumerate(dataset[:5,:4]):\n",
        "  print(f'Dados do Aluno {indice + 1}')\n",
        "  print(f'Matrícula :{aluno[0]: .0f}')\n",
        "  print(f'Massa     :{aluno[1]: .3f} quilogramas')\n",
        "  print(f'Altura    :{aluno[2]: .2f} metros')\n",
        "  print(f'IMC.      :{aluno[3]: .1f}\\n')"
      ],
      "execution_count": 160,
      "outputs": [
        {
          "output_type": "stream",
          "name": "stdout",
          "text": [
            "Exibir os 5 primeiros alunos:\n",
            "Dados do Aluno 1\n",
            "Matrícula : 8449\n",
            "Massa     : 79.929 quilogramas\n",
            "Altura    : 1.52 metros\n",
            "IMC.      : 34.4\n",
            "\n",
            "Dados do Aluno 2\n",
            "Matrícula : 8483\n",
            "Massa     : 87.500 quilogramas\n",
            "Altura    : 1.86 metros\n",
            "IMC.      : 25.3\n",
            "\n",
            "Dados do Aluno 3\n",
            "Matrícula : 5031\n",
            "Massa     : 70.768 quilogramas\n",
            "Altura    : 2.00 metros\n",
            "IMC.      : 17.6\n",
            "\n",
            "Dados do Aluno 4\n",
            "Matrícula : 5791\n",
            "Massa     : 67.544 quilogramas\n",
            "Altura    : 1.70 metros\n",
            "IMC.      : 23.4\n",
            "\n",
            "Dados do Aluno 5\n",
            "Matrícula : 1480\n",
            "Massa     : 79.449 quilogramas\n",
            "Altura    : 1.79 metros\n",
            "IMC.      : 24.7\n",
            "\n"
          ]
        }
      ]
    },
    {
      "cell_type": "markdown",
      "source": [
        "#Faça os relatórios 1 + 2 + 3, a seguir, referentes a coluna IMC do dataset:"
      ],
      "metadata": {
        "id": "HsQTWD2pQJKe"
      }
    },
    {
      "cell_type": "markdown",
      "source": [
        "## RELATÓRIO 1:\n",
        "Exibir na tela o IMC médio (mean) por quartil, ou seja:\n",
        "*   IMC médio do QUARTIL 1\n",
        "*   IMC médio do QUARTIL 2\n",
        "*   IMC médio do QUARTIL 3"
      ],
      "metadata": {
        "id": "FZf5KAhLx7vD"
      }
    },
    {
      "cell_type": "code",
      "source": [
        "for indice, aluno in enumerate(dataset[:5, :]):\n",
        "  print(f'Dados do aluno {indice + 1}:')\n",
        "  print(f'Matrícula: {aluno[0]:.0f}')\n",
        "  print(f'Massa: {aluno[1]:.1f}kg')\n",
        "  print(f'Altura: {aluno[2]:.2f}m')\n",
        "  print(f'IMC: {aluno[3]:.1f}\\n')"
      ],
      "metadata": {
        "id": "XAX_wMgSyRig",
        "outputId": "ad31c212-1735-4924-e01d-f57728a88427",
        "colab": {
          "base_uri": "https://localhost:8080/"
        }
      },
      "execution_count": 171,
      "outputs": [
        {
          "output_type": "stream",
          "name": "stdout",
          "text": [
            "Dados do aluno 1:\n",
            "Matrícula: 8449\n",
            "Massa: 79.9kg\n",
            "Altura: 1.52m\n",
            "IMC: 34.4\n",
            "\n",
            "Dados do aluno 2:\n",
            "Matrícula: 8483\n",
            "Massa: 87.5kg\n",
            "Altura: 1.86m\n",
            "IMC: 25.3\n",
            "\n",
            "Dados do aluno 3:\n",
            "Matrícula: 5031\n",
            "Massa: 70.8kg\n",
            "Altura: 2.00m\n",
            "IMC: 17.6\n",
            "\n",
            "Dados do aluno 4:\n",
            "Matrícula: 5791\n",
            "Massa: 67.5kg\n",
            "Altura: 1.70m\n",
            "IMC: 23.4\n",
            "\n",
            "Dados do aluno 5:\n",
            "Matrícula: 1480\n",
            "Massa: 79.4kg\n",
            "Altura: 1.79m\n",
            "IMC: 24.7\n",
            "\n"
          ]
        }
      ]
    },
    {
      "cell_type": "markdown",
      "source": [
        "**IMC MEDIO DO 1º QUARTIL**"
      ],
      "metadata": {
        "id": "dTdGtmNU0AGr"
      }
    },
    {
      "cell_type": "code",
      "source": [
        "dataset[:, 3].sort()\n",
        "organizado = dataset[:, 3]"
      ],
      "metadata": {
        "id": "wrwcQy5Wr65K"
      },
      "execution_count": 197,
      "outputs": []
    },
    {
      "cell_type": "code",
      "source": [
        "Q1 = organizado[:len(organizado)//4]"
      ],
      "metadata": {
        "id": "0RVWM7AVsLVS"
      },
      "execution_count": 205,
      "outputs": []
    },
    {
      "cell_type": "code",
      "source": [
        "print(f'IMC médio do 1º quartil: {Q1.mean():.1f}')"
      ],
      "metadata": {
        "id": "JRJyqhkhuQsv",
        "outputId": "55864b49-0c5d-4fdb-c28a-256e96f8c5ad",
        "colab": {
          "base_uri": "https://localhost:8080/"
        }
      },
      "execution_count": 196,
      "outputs": [
        {
          "output_type": "stream",
          "name": "stdout",
          "text": [
            "IMC médio do 1º quartil: 17.8\n"
          ]
        }
      ]
    },
    {
      "cell_type": "markdown",
      "source": [
        "**IMC MÉDIO DO 2º QUARTIL**"
      ],
      "metadata": {
        "id": "ifOr7m9_0YGB"
      }
    },
    {
      "cell_type": "code",
      "source": [
        "Q2 = organizado[len(organizado) // 4:3 * len(organizado) // 4]"
      ],
      "metadata": {
        "id": "hMwv0-uI0dpX"
      },
      "execution_count": 209,
      "outputs": []
    },
    {
      "cell_type": "code",
      "source": [
        "print(f'IMC médio do 2º quartil: {Q2.mean():.1f}')"
      ],
      "metadata": {
        "id": "1h3TKmF60_eZ",
        "outputId": "6de000b4-bcc7-4838-c197-0e879fb545e7",
        "colab": {
          "base_uri": "https://localhost:8080/"
        }
      },
      "execution_count": 206,
      "outputs": [
        {
          "output_type": "stream",
          "name": "stdout",
          "text": [
            "IMC médio do 2º quartil: 25.1\n"
          ]
        }
      ]
    },
    {
      "cell_type": "markdown",
      "source": [
        "**IMC MÉDIO DO 3º QUARTIL**"
      ],
      "metadata": {
        "id": "sR7n2y1X1GMg"
      }
    },
    {
      "cell_type": "code",
      "source": [
        "Q3 = organizado[3*len(organizado)//4::]"
      ],
      "metadata": {
        "id": "ROpcdAAz1In8"
      },
      "execution_count": 214,
      "outputs": []
    },
    {
      "cell_type": "code",
      "source": [
        "print(f'IMC médio do 3º quartil: {Q3.mean():.1f}')"
      ],
      "metadata": {
        "id": "xpYZQDsx190R",
        "outputId": "7c960a90-94b8-4cda-d6d6-6f5563bf6ec6",
        "colab": {
          "base_uri": "https://localhost:8080/"
        }
      },
      "execution_count": 215,
      "outputs": [
        {
          "output_type": "stream",
          "name": "stdout",
          "text": [
            "IMC médio do 3º quartil: 33.7\n"
          ]
        }
      ]
    },
    {
      "cell_type": "markdown",
      "source": [
        "## RELATÓRIO 2:\n",
        "Exibir na tela o valor MÍNIMO, MÁXIMO e a AMPLITUDE (MAX - MIN) por quartil, ou seja:\n",
        "*   QUARTIL 1\n",
        "*   QUARTIL 2\n",
        "*   QUARTIL 3"
      ],
      "metadata": {
        "id": "oFD7D3T4yfoG"
      }
    },
    {
      "cell_type": "markdown",
      "source": [
        "**MÍNIMO, MÁXIMO E AMPLITUDE 1º QUARTIL**"
      ],
      "metadata": {
        "id": "T2CIoBXx4-nM"
      }
    },
    {
      "cell_type": "code",
      "source": [
        "print(f'IMC mínimo 1º Quartil: {Q1.min():.1f}')\n",
        "print(f'IMC máximo 1º Quartil: {Q1.max():.1f}')\n",
        "print(f'Amplitude 1º Quartil:: {Q1.max() - Q1.min():.1f}')"
      ],
      "metadata": {
        "id": "GTwLRsWyy4dn",
        "outputId": "8a328f68-3ac2-4ab7-b9eb-3f6cff2dda74",
        "colab": {
          "base_uri": "https://localhost:8080/"
        }
      },
      "execution_count": 224,
      "outputs": [
        {
          "output_type": "stream",
          "name": "stdout",
          "text": [
            "IMC mínimo 1º Quartil: 11.9\n",
            "IMC máximo 1º Quartil: 21.1\n",
            "Amplitude 1º Quartil:: 9.2\n"
          ]
        }
      ]
    },
    {
      "cell_type": "markdown",
      "source": [
        "**MÍNIMO, MÁXIMO E AMPLITUDE 2º QUARTIL**"
      ],
      "metadata": {
        "id": "2pdREG1865Xr"
      }
    },
    {
      "cell_type": "code",
      "source": [
        "print(f'IMC mínimo 2º Quartil: {Q2.min():.1f}')\n",
        "print(f'IMC máximo 2º Quartil: {Q2.max():.1f}')\n",
        "print(f'Amplitude 2º Quartil: {Q2.max() - Q2.min():.1f}')"
      ],
      "metadata": {
        "id": "cyKdTCDU7FU9",
        "outputId": "a3473fec-c699-475a-fcf7-7360966ac589",
        "colab": {
          "base_uri": "https://localhost:8080/"
        }
      },
      "execution_count": 229,
      "outputs": [
        {
          "output_type": "stream",
          "name": "stdout",
          "text": [
            "IMC mínimo 2º Quartil: 21.1\n",
            "IMC máximo 2º Quartil: 29.7\n",
            "Amplitude 2º Quartil: 8.6\n"
          ]
        }
      ]
    },
    {
      "cell_type": "markdown",
      "source": [
        "**MÍNIMO, MÁXIMO E AMPLITUDE 3º QUARTIL**"
      ],
      "metadata": {
        "id": "2rfS4ZGh7k-T"
      }
    },
    {
      "cell_type": "code",
      "source": [
        "print(f'IMC mínimo 3º Quartil: {Q3.min():.1f}')\n",
        "print(f'IMC máximo 3º Quartil: {Q3.max():.1f}')\n",
        "print(f'Amplitude 3º Quartil: {Q3.max()- Q3.min():.1f}')"
      ],
      "metadata": {
        "id": "gdOZtcEn7nUv",
        "outputId": "2a7c905f-83bc-4538-98a8-e2cf2bcad383",
        "colab": {
          "base_uri": "https://localhost:8080/"
        }
      },
      "execution_count": 231,
      "outputs": [
        {
          "output_type": "stream",
          "name": "stdout",
          "text": [
            "IMC mínimo 3º Quartil: 29.7\n",
            "IMC máximo 3º Quartil: 49.8\n",
            "Amplitude 3º Quartil: 20.1\n"
          ]
        }
      ]
    },
    {
      "cell_type": "markdown",
      "source": [
        "## RELATÓRIO 3: \n",
        "\n",
        "Exibir (de maneira formatada) os parâmetros estatísticos, a saber:\n",
        "\n",
        "*   Mínimo (min)\n",
        "*   Máximo (max)\n",
        "*   Amplitude - range = Máximo - Mínimo\n",
        "*   Média (mean)\n",
        "*   Quartil 1 - quantile 1: 25% do dataset\n",
        "*   Quartil 2 - quantile 2: 50% do dataset = Mediana\n",
        "*   Quartil 3 - quantile 3: 75% do dataset\n",
        "\n",
        "de um subdataset montado a escolha do usuário (comando INPUT), onde o mesmo irá escolher:\n",
        "*   Início: STAR >= 0\n",
        "*   Fim: STOP: Tamanho <= len(dataset) - 1\n",
        "*   START <= STOP\n",
        "*   STEP: default = padrão = 1"
      ],
      "metadata": {
        "id": "5L96tbu0LsCi"
      }
    },
    {
      "cell_type": "code",
      "source": [
        "print(f'Faça você mesmo seu subdataset de IMC')\n",
        "print(f'Favor usar somente números inteiros e maiores que zero!\\n')\n",
        "x = int(input(\"Insira o valor inicial do seu subdataset: \"))\n",
        "y = int(input(\"Insira o valor final do seu subdataset: \"))\n",
        "z = int(input(\"Insira o valor do passo: \"))\n",
        "\n",
        "print(f'\\nCerto, seu subdataset irá do {x}º valor ao {y}º (não incluso),'\n",
        "+ f' com passo {z}')\n",
        "\n",
        "dataset_usuario = organizado[x:y:z]\n",
        "dataset_usuario\n",
        "\n"
      ],
      "metadata": {
        "id": "ail2tB2ELst9",
        "outputId": "3c7f2e7e-e6da-4512-e772-e8f37517b74f",
        "colab": {
          "base_uri": "https://localhost:8080/"
        }
      },
      "execution_count": 249,
      "outputs": [
        {
          "output_type": "stream",
          "name": "stdout",
          "text": [
            "Faça você mesmo seu subdataset de IMC\n",
            "Favor usar somente números inteiros e maiores que zero!\n",
            "\n",
            "Insira o valor inicial do seu subdataset: 10\n",
            "Insira o valor final do seu subdataset: 29\n",
            "Insira o valor do passo: 2\n",
            "\n",
            "Certo, seu subdataset irá do 10º valor ao 29º (não incluso),com passo 2\n"
          ]
        },
        {
          "output_type": "execute_result",
          "data": {
            "text/plain": [
              "array([14.76589871, 15.21231983, 15.3530278 , 15.68104692, 15.73381983,\n",
              "       15.95669376, 16.13322493, 16.51415273, 16.7434618 , 16.83810324])"
            ]
          },
          "metadata": {},
          "execution_count": 249
        }
      ]
    },
    {
      "cell_type": "code",
      "source": [
        "print(f'IMC mínimo do seu subdataset: {dataset_usuario.min():.1f}')\n",
        "print(f'IMC máximo do seu subdataset: {dataset_usuario.max():.1f}')\n",
        "print(f'Amplitude dos IMCs do seu subdataset:' \n",
        "      + f' {dataset_usuario.max() - dataset_usuario.min():.1f}')\n",
        "print(f'Média dos IMCs do seu subdataset: {dataset_usuario.mean():.1f}')\n"
      ],
      "metadata": {
        "id": "i4D9bvPRA424",
        "outputId": "ce136c17-f191-4c83-b84a-d9b24db9c191",
        "colab": {
          "base_uri": "https://localhost:8080/"
        }
      },
      "execution_count": 254,
      "outputs": [
        {
          "output_type": "stream",
          "name": "stdout",
          "text": [
            "IMC mínimo do seu subdataset: 14.8\n",
            "IMC máximo do seu subdataset: 16.8\n",
            "Amplitude dos IMCs do seu subdataset: 2.1\n",
            "Média dos IMCs do seu subdataset: 15.9\n"
          ]
        }
      ]
    },
    {
      "cell_type": "code",
      "source": [
        "q1_usuario = dataset_usuario[:len(dataset_usuario)//4]\n",
        "q1_usuario"
      ],
      "metadata": {
        "id": "FACjicskB7-l",
        "outputId": "7a4f05be-2524-42db-a135-ed09f81ec458",
        "colab": {
          "base_uri": "https://localhost:8080/"
        }
      },
      "execution_count": 263,
      "outputs": [
        {
          "output_type": "execute_result",
          "data": {
            "text/plain": [
              "array([14.76589871, 15.21231983])"
            ]
          },
          "metadata": {},
          "execution_count": 263
        }
      ]
    },
    {
      "cell_type": "code",
      "source": [
        "q2_usuario = dataset_usuario[len(dataset)//4:3*len(dataset)//4:]\n",
        "q2_usuario"
      ],
      "metadata": {
        "id": "2-xsviXDC8M2",
        "outputId": "75816421-5085-4606-f83e-6f7b48c33edf",
        "colab": {
          "base_uri": "https://localhost:8080/"
        }
      },
      "execution_count": 264,
      "outputs": [
        {
          "output_type": "execute_result",
          "data": {
            "text/plain": [
              "array([], dtype=float64)"
            ]
          },
          "metadata": {},
          "execution_count": 264
        }
      ]
    },
    {
      "cell_type": "code",
      "source": [
        "q3_usuario = dataset_usuario[3*len(dataset)//4::]\n",
        "q3_usuario"
      ],
      "metadata": {
        "id": "0nVKZm8zDS38",
        "outputId": "9c8c5e5d-99f0-4d8d-f9c3-0295dea7e4c4",
        "colab": {
          "base_uri": "https://localhost:8080/"
        }
      },
      "execution_count": 266,
      "outputs": [
        {
          "output_type": "execute_result",
          "data": {
            "text/plain": [
              "array([], dtype=float64)"
            ]
          },
          "metadata": {},
          "execution_count": 266
        }
      ]
    },
    {
      "cell_type": "markdown",
      "metadata": {
        "id": "W8OF1V5uUwDb"
      },
      "source": [
        "## INDEXACÃO BOOLEANA (2D):"
      ]
    },
    {
      "cell_type": "markdown",
      "metadata": {
        "id": "yygGrnKWU1rP"
      },
      "source": [
        "Consiste em aplicar diretamente ao dataset (ou subdataset) operações: \n",
        "\n",
        "*   Relacionais: >, >=, <, <=, == e !=  e/ ou\n",
        "\n",
        "*   Lógicos: Conjunção(and : &), Disjunção (or : |) ou Negação (not: ~)\n",
        "\n",
        "como resultado, temos um vetor (ndarray) de valores booleanos (False = 0 ou True = 1)"
      ]
    },
    {
      "cell_type": "markdown",
      "metadata": {
        "id": "ToLy0Dks9m9H"
      },
      "source": [
        "### Exemplo 1: usar & (and), | (or) e ~ (not)\n",
        "\n",
        "\n",
        "\n",
        "![image.png](data:image/png;base64,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)"
      ]
    },
    {
      "cell_type": "markdown",
      "metadata": {
        "id": "zgitSzNfDikj"
      },
      "source": [
        "Método SHAPE:"
      ]
    },
    {
      "cell_type": "code",
      "metadata": {
        "id": "to7uwoU5BePI"
      },
      "source": [
        "# shape(linhas, colunas): shape[0]: linhas ou shape[1]: colunas\n",
        "dataset.shape"
      ],
      "execution_count": null,
      "outputs": []
    },
    {
      "cell_type": "code",
      "metadata": {
        "id": "oQZsW_jZU3lt"
      },
      "source": [
        "# Indexação Booleana\n",
        "index_c1 = dataset[:, 3] < 18.5\n",
        "index_c2 = (dataset[:, 3] >= 18.5) & (dataset[:, 3] < 25.0)\n",
        "index_c3 = (dataset[:, 3] >= 25.0) & (dataset[:, 3] < 30.0)\n",
        "index_c4 = (dataset[:, 3] >= 30.0) & (dataset[:, 3] < 35.0)\n",
        "index_c5 = (dataset[:, 3] >= 35.0) & (dataset[:, 3] < 40.0)\n",
        "index_c6 = (dataset[:, 3] >= 40.0)"
      ],
      "execution_count": null,
      "outputs": []
    },
    {
      "cell_type": "code",
      "metadata": {
        "id": "gBIqEY2FA0UQ"
      },
      "source": [
        "print('Classificação dos alunos por IMC:')\n",
        "print(f'Quantidade de Alunos - Classificação 1 - MAGREZA: {sum(index_c1)}')\n",
        "print(f'Quantidade de Alunos - Classificação 1 - MAGREZA: {sum(index_c1) / dataset.shape[0] * 100: .2f}%\\n')\n",
        "print(f'Quantidade de Alunos - Classificação 2 - SAUDÁVEL: {sum(index_c2)}')\n",
        "print(f'Quantidade de Alunos - Classificação 2 - SAUDÁVEL: {sum(index_c2) / dataset.shape[0] * 100: .2f}%\\n')\n",
        "print(f'Quantidade de Alunos - Classificação 3 - SOBREPESO: {sum(index_c3)}')\n",
        "print(f'Quantidade de Alunos - Classificação 3 - SOBREPESO: {sum(index_c3) / dataset.shape[0] * 100: .2f}%\\n')\n",
        "print(f'Quantidade de Alunos - Classificação 4 - OBESIDADE GRAU I: {sum(index_c4)}')\n",
        "print(f'Quantidade de Alunos - Classificação 4 - OBESIDADE GRAU I: {sum(index_c4) / dataset.shape[0] * 100: .2f}%\\n')\n",
        "print(f'Quantidade de Alunos - Classificação 5 - OBESIDADE GRAU II: {sum(index_c5)}')\n",
        "print(f'Quantidade de Alunos - Classificação 5 - OBESIDADE GRAU II: {sum(index_c5) / dataset.shape[0] * 100: .2f}%\\n')\n",
        "print(f'Quantidade de Alunos - Classificação 6 - OBESIDADE GRAU III: {sum(index_c6)}')\n",
        "print(f'Quantidade de Alunos - Classificação 6 - OBESIDADE GRAU III: {sum(index_c6) / dataset.shape[0] * 100: .2f}%\\n')"
      ],
      "execution_count": null,
      "outputs": []
    },
    {
      "cell_type": "markdown",
      "metadata": {
        "id": "a7EGFj7AFEEQ"
      },
      "source": [
        "### Exemplo 2: usar & (and), | (or) e ~ (not)\n",
        "\n",
        "Exibir na tela: Matrícula e IMC dos alunos NÃO saudáveis:"
      ]
    },
    {
      "cell_type": "code",
      "metadata": {
        "id": "5MHuIKhdE_gu"
      },
      "source": [
        "nao_saudaveis = dataset[~index_c2, 0:4:3]\n",
        "print(f'Matrícula e IMC dos alunos NÃO saudáveis - Total = {sum(~index_c2)}: ')\n",
        "for indice, aluno in enumerate(nao_saudaveis):\n",
        "  print(f'Aluno {indice + 1}')\n",
        "  print(f'Matrícula: {aluno[0]: .0f}')\n",
        "  print(f'IMC: {aluno[1]: .2f}\\n')"
      ],
      "execution_count": null,
      "outputs": []
    },
    {
      "cell_type": "code",
      "metadata": {
        "id": "MqqhVS0BIz9_"
      },
      "source": [
        "# Ordenar por imc: Método argsort = index_funcy_imc (vetor boolean)\n",
        "index_funcy_imc = np.argsort(nao_saudaveis[:, 1])\n",
        "nao_saudaveis_ordem = nao_saudaveis[index_funcy_imc, :]\n",
        "print(f'Matrícula e IMC dos alunos NÃO saudáveis (ordem IMC)- Total = {sum(~index_c2)}: ')\n",
        "for indice, aluno in enumerate(nao_saudaveis_ordem):\n",
        "  print(f'Aluno {indice + 1}')\n",
        "  print(f'Matrícula: {aluno[0]: .0f}')\n",
        "  print(f'IMC: {aluno[1]: .2f}\\n')"
      ],
      "execution_count": null,
      "outputs": []
    },
    {
      "cell_type": "markdown",
      "metadata": {
        "id": "vxtOwr2VLitr"
      },
      "source": [
        "### Exemplo 3: método argmin(), argmax() e argsort()\n",
        "\n",
        "Exibir a Matrícula e IMC do aluno mais magro e mais gordo: "
      ]
    },
    {
      "cell_type": "code",
      "metadata": {
        "id": "POLzr1KNLyHL"
      },
      "source": [
        "# Método: argmin  / argmax\n",
        "index_mais_magro = np.argmin(dataset[:, 3])\n",
        "index_mais_magro"
      ],
      "execution_count": null,
      "outputs": []
    },
    {
      "cell_type": "code",
      "metadata": {
        "id": "vm-fGQu5SjyI"
      },
      "source": [
        "print('Dados do Aluno mais magro:')\n",
        "print(f'Matrícula: {dataset[index_mais_magro, 0]: .0f}')\n",
        "print(f'Altura.  : {dataset[index_mais_magro, 1]: .2f}')\n",
        "print(f'Massa.   : {dataset[index_mais_magro, 2]: .3f}')\n",
        "print(f'IMC.     : {dataset[index_mais_magro, 3]: .2f}')"
      ],
      "execution_count": null,
      "outputs": []
    },
    {
      "cell_type": "code",
      "metadata": {
        "id": "jpZTsT15TlLH"
      },
      "source": [
        "# Método: argmin  / argmax\n",
        "index_mais_gordo = np.argmax(dataset[:, 3])\n",
        "index_mais_gordo"
      ],
      "execution_count": null,
      "outputs": []
    },
    {
      "cell_type": "code",
      "metadata": {
        "id": "a6HcN9jbTsyI"
      },
      "source": [
        "print('Dados do Aluno mais gordo:')\n",
        "print(f'Matrícula: {dataset[index_mais_gordo, 0]: .0f}')\n",
        "print(f'Altura.  : {dataset[index_mais_gordo, 1]: .2f}')\n",
        "print(f'Massa.   : {dataset[index_mais_gordo, 2]: .3f}')\n",
        "print(f'IMC.     : {dataset[index_mais_gordo, 3]: .2f}')"
      ],
      "execution_count": null,
      "outputs": []
    },
    {
      "cell_type": "markdown",
      "metadata": {
        "id": "ddtETCRpVy3H"
      },
      "source": [
        "### Exemplo 4: Indexação Booleana\n",
        "\n",
        "Criar a coluna classificação, conforme a tabela:"
      ]
    },
    {
      "cell_type": "code",
      "metadata": {
        "id": "nY4-BN24V9Mh"
      },
      "source": [
        "dataset[index_c1, 4] = 1\n",
        "dataset[index_c2, 4] = 2\n",
        "dataset[index_c3, 4] = 3\n",
        "dataset[index_c4, 4] = 4\n",
        "dataset[index_c5, 4] = 5\n",
        "dataset[index_c6, 4] = 6"
      ],
      "execution_count": null,
      "outputs": []
    },
    {
      "cell_type": "code",
      "metadata": {
        "id": "G3liVLi0WuCR"
      },
      "source": [
        "dataset[:, 4]"
      ],
      "execution_count": null,
      "outputs": []
    },
    {
      "cell_type": "markdown",
      "metadata": {
        "id": "dVjMbTB1XjCd"
      },
      "source": [
        "###  $\\implies$ **Visão em forma de Tabela - DATAFRAME (pandas):**"
      ]
    },
    {
      "cell_type": "code",
      "metadata": {
        "id": "B-hGFeM0XoP3"
      },
      "source": [
        "import pandas as pd\n",
        "table = pd.DataFrame(dataset, columns=['MATRÍCULA',\n",
        "                                       'MASSA',\n",
        "                                       'ALTURA',\n",
        "                                       'IMC',\n",
        "                                       'CLASSIFICAÇÃO'])\n",
        "table.head()"
      ],
      "execution_count": null,
      "outputs": []
    },
    {
      "cell_type": "code",
      "metadata": {
        "id": "itNWuU_LZ3EZ"
      },
      "source": [
        "table.describe()"
      ],
      "execution_count": null,
      "outputs": []
    },
    {
      "cell_type": "markdown",
      "metadata": {
        "id": "sGgpka2mM067"
      },
      "source": [
        "### Exemplo 5: usar método argwhere\n",
        "\n",
        "Pesquisar e exibir os dados de um aluno lendo (comando INPUT) sua matrícula do usuário:"
      ]
    },
    {
      "cell_type": "code",
      "metadata": {
        "id": "2QnUb5QfNBlq"
      },
      "source": [
        "# DICA: Usar o método numpy: np.argwhere()\n",
        "array = np.random.randint(10, 99, 5)\n",
        "array"
      ],
      "execution_count": null,
      "outputs": []
    },
    {
      "cell_type": "markdown",
      "metadata": {
        "id": "E3S6cRr8PhGQ"
      },
      "source": [
        "#### SE achar o valor:"
      ]
    },
    {
      "cell_type": "code",
      "metadata": {
        "id": "11lhVH6INfPX"
      },
      "source": [
        "# if achar\n",
        "index = np.argwhere(array == 14)\n",
        "index"
      ],
      "execution_count": null,
      "outputs": []
    },
    {
      "cell_type": "code",
      "metadata": {
        "id": "cDjcovXTP1hI"
      },
      "source": [
        "index[0][0]"
      ],
      "execution_count": null,
      "outputs": []
    },
    {
      "cell_type": "markdown",
      "metadata": {
        "id": "BHCZbIavPpCo"
      },
      "source": [
        "#### SE NÃO achar o valor:"
      ]
    },
    {
      "cell_type": "code",
      "metadata": {
        "id": "-Mo8nTeFN1pi"
      },
      "source": [
        "# if NÃO achar:\n",
        "index = np.argwhere(array == 20)\n",
        "resp = False\n",
        "if index.size == 0:\n",
        "  resp = True\n",
        "resp"
      ],
      "execution_count": null,
      "outputs": []
    },
    {
      "cell_type": "markdown",
      "metadata": {
        "id": "eEaL7-KB3n6X"
      },
      "source": [
        "## INDEXACÃO SOFISTICADA - (2D): ARGSORT"
      ]
    },
    {
      "cell_type": "code",
      "metadata": {
        "id": "j9oHZUW08Ot2"
      },
      "source": [
        "print('Classificação dos alunos por IMC:')\n",
        "print(f'Quantidade de Alunos - Classificação 1 - MAGREZA: {sum(index_c1)}')\n",
        "print(f'Quantidade de Alunos - Classificação 1 - MAGREZA: {sum(index_c1) / dataset.shape[0] * 100: .2f}%\\n')\n",
        "print(f'Quantidade de Alunos - Classificação 2 - SAUDÁVEL: {sum(index_c2)}')\n",
        "print(f'Quantidade de Alunos - Classificação 2 - SAUDÁVEL: {sum(index_c2) / dataset.shape[0] * 100: .2f}%\\n')\n",
        "print(f'Quantidade de Alunos - Classificação 3 - SOBREPESO: {sum(index_c3)}')\n",
        "print(f'Quantidade de Alunos - Classificação 3 - SOBREPESO: {sum(index_c3) / dataset.shape[0] * 100: .2f}%\\n')\n",
        "print(f'Quantidade de Alunos - Classificação 4 - OBESIDADE GRAU I: {sum(index_c4)}')\n",
        "print(f'Quantidade de Alunos - Classificação 4 - OBESIDADE GRAU I: {sum(index_c4) / dataset.shape[0] * 100: .2f}%\\n')\n",
        "print(f'Quantidade de Alunos - Classificação 5 - OBESIDADE GRAU II: {sum(index_c5)}')\n",
        "print(f'Quantidade de Alunos - Classificação 5 - OBESIDADE GRAU II: {sum(index_c5) / dataset.shape[0] * 100: .2f}%\\n')\n",
        "print(f'Quantidade de Alunos - Classificação 6 - OBESIDADE GRAU III: {sum(index_c6)}')\n",
        "print(f'Quantidade de Alunos - Classificação 6 - OBESIDADE GRAU III: {sum(index_c6) / dataset.shape[0] * 100: .2f}%\\n')"
      ],
      "execution_count": null,
      "outputs": []
    },
    {
      "cell_type": "markdown",
      "metadata": {
        "id": "ZjdOTNFW3tqD"
      },
      "source": [
        "Método: ARGSORT"
      ]
    },
    {
      "cell_type": "code",
      "metadata": {
        "id": "WxiAfXgd3wvl"
      },
      "source": [
        "# Vetor com os índices em ordem: IMC\n",
        "index_funny_imc = np.argsort(dataset[:, 3])\n",
        "index_funny_imc[:10]"
      ],
      "execution_count": null,
      "outputs": []
    },
    {
      "cell_type": "code",
      "metadata": {
        "id": "AOSn66gA5qEj"
      },
      "source": [
        "index_funny_imc[0]"
      ],
      "execution_count": null,
      "outputs": []
    },
    {
      "cell_type": "markdown",
      "metadata": {
        "id": "t8OuZmbJ408c"
      },
      "source": [
        "1) Qual a matrícula (+ IMC) dos 10 alunos com os piores IMC da Classificação 1 - MAGREZA:"
      ]
    },
    {
      "cell_type": "code",
      "metadata": {
        "id": "KTa31S655Dn3"
      },
      "source": [
        "index = 0\n",
        "aluno = 0\n",
        "print('LISTA: Os 10 alunos com os piores IMC da Classificação 1 - MAGREZA:')\n",
        "while aluno < 10:\n",
        "  i_funny = index_funny_imc[index]\n",
        "  if dataset[i_funny, 4] == 1:    # GRUPO: MAGREZA\n",
        "    print(f'Aluno {aluno + 1}: ')\n",
        "    print(f'Classificação - MAGREZA: {dataset[i_funny, 4]: .0f}')\n",
        "    print(f'Matricula: {dataset[i_funny, 0]:.0f}')\n",
        "    print(f'IMC: {dataset[i_funny, 3]:.2f}\\n\\n')\n",
        "    aluno += 1\n",
        "  index += 1"
      ],
      "execution_count": null,
      "outputs": []
    },
    {
      "cell_type": "markdown",
      "metadata": {
        "id": "OEJM5AZ572Vo"
      },
      "source": [
        "1) Qual a matrícula (+ IMC) dos 10 alunos com os maiores IMC da Classificação 5 - OBESIDADE GRAU II"
      ]
    },
    {
      "cell_type": "code",
      "metadata": {
        "id": "jrPw9TaI9EgV"
      },
      "source": [
        "index_funny = index_funny_imc[::-1]    # inverter a ordem: Decrescente\n",
        "index_funny"
      ],
      "execution_count": null,
      "outputs": []
    },
    {
      "cell_type": "code",
      "metadata": {
        "id": "jFkBrVFp8yRZ"
      },
      "source": [
        "index = 0\n",
        "aluno = 0\n",
        "print('LISTA: Os 10 alunos com os piores IMC da Classificação 5 - OBESIDADE GRAU II:')\n",
        "while aluno < 10:\n",
        "  i_funny = index_funny_imc[index]\n",
        "  if dataset[i_funny, 4] == 5:    # GRUPO: Classificação 5 - OBESIDADE GRAU II\n",
        "    print(f'Aluno {aluno + 1}: ')\n",
        "    print(f'Classificação - OBESIDADE GRAU II: {dataset[i_funny, 4]: .0f}')\n",
        "    print(f'Matricula: {dataset[i_funny, 0]:.0f}')\n",
        "    print(f'IMC: {dataset[i_funny, 3]:.2f}\\n\\n')\n",
        "    aluno += 1\n",
        "  index += 1"
      ],
      "execution_count": null,
      "outputs": []
    },
    {
      "cell_type": "markdown",
      "metadata": {
        "id": "4BRh7UkjRhr3"
      },
      "source": [
        "# Referência Bibliográfica:"
      ]
    },
    {
      "cell_type": "markdown",
      "metadata": {
        "id": "tBOb6EVtr9u-"
      },
      "source": [
        "<div class=\"hint\">\n",
        "        <b>APRENDA+ :</b><br/>\n",
        "        &#10139; Livro Numeric Python (Travis E. Oliphant):\n",
        "        <a href=\"https://web.mit.edu/dvp/Public/numpybook.pdf\">Link<a><br/>\n",
        "        &#10139; Livro Wes McKinney:\n",
        "        <a href=\"https://www.cin.ufpe.br/~embat/Python%20for%20Data%20Analysis.pdf\">Link<a><br/>\n",
        "        &#10139; Biblioteca Numeric Python:\n",
        "        <a href=\"https://numpy.org/doc/1.17/index.html\">Link<a><br/>\n",
        "        &#10139; Conceitos de <b>Arranjo</b>:\n",
        "        <a href=\"https://pt.wikipedia.org/wiki/Arranjo_(computação)\">Link</a><br/>\n",
        "        &#10139; Site oficial <b>Python</b>:\n",
        "        <a href=\"https://www.python.org/\">Link</a><br/>\n",
        "        &#10139; Bibliotecas (Library) do <b>Python</b>:\n",
        "        <a href=\"https://docs.python.org/3.8/library/index.html?highlight=library\">Link</a><br/>\n",
        "    </div>"
      ]
    }
  ]
}